{
  "nbformat": 4,
  "nbformat_minor": 0,
  "metadata": {
    "kernelspec": {
      "language": "python",
      "display_name": "Python 3",
      "name": "python3"
    },
    "language_info": {
      "name": "python",
      "version": "3.7.10",
      "mimetype": "text/x-python",
      "codemirror_mode": {
        "name": "ipython",
        "version": 3
      },
      "pygments_lexer": "ipython3",
      "nbconvert_exporter": "python",
      "file_extension": ".py"
    },
    "colab": {
      "name": "london-bike-prediction.ipynb",
      "provenance": [],
      "collapsed_sections": []
    }
  },
  "cells": [
    {
      "cell_type": "markdown",
      "source": [
        "##### 인프런 강의를 참고하여 작성된 코드입니다\n",
        "https://inf.run/qmKN"
      ],
      "metadata": {
        "id": "pPr0dGv-prs0"
      }
    },
    {
      "cell_type": "code",
      "metadata": {
        "id": "txJso2fma2Kc",
        "colab": {
          "base_uri": "https://localhost:8080/"
        },
        "outputId": "d09c8f7d-498e-4f60-8a2b-707c12478cc0"
      },
      "source": [
        "# google drive와 colab 연결 (dirve mount)\n",
        "\n",
        "from google.colab import drive\n",
        "drive.mount('/content/drive')"
      ],
      "execution_count": null,
      "outputs": [
        {
          "output_type": "stream",
          "name": "stdout",
          "text": [
            "Mounted at /content/drive\n"
          ]
        }
      ]
    },
    {
      "cell_type": "code",
      "source": [
        "import numpy as np # linear algebra\n",
        "import pandas as pd # data processing, CSV file I/O (e.g. pd.read_csv)\n",
        "import matplotlib.pyplot as plt\n",
        "import seaborn as sns\n",
        "import missingno as msno #결측 개수 확인"
      ],
      "metadata": {
        "id": "kio5L8TkvLbv"
      },
      "execution_count": null,
      "outputs": []
    },
    {
      "cell_type": "markdown",
      "source": [
        "#### 전처리 및 EDA"
      ],
      "metadata": {
        "id": "W_Ukga-bjN-5"
      }
    },
    {
      "cell_type": "code",
      "metadata": {
        "id": "7h4Ty9ZkvODO",
        "colab": {
          "base_uri": "https://localhost:8080/",
          "height": 206
        },
        "outputId": "5dcff961-aff6-407b-f953-9ffdc97a8a58"
      },
      "source": [
        "df = pd.read_csv('/content/drive/MyDrive/ML DL/[kaggle]/london_merged.csv', parse_dates=['timestamp']) #timestamp변수를 date포맷으로 인식\n",
        "df.head()"
      ],
      "execution_count": null,
      "outputs": [
        {
          "output_type": "execute_result",
          "data": {
            "text/html": [
              "\n",
              "  <div id=\"df-495a3c98-bfb2-45e1-afe8-6236acc5a76b\">\n",
              "    <div class=\"colab-df-container\">\n",
              "      <div>\n",
              "<style scoped>\n",
              "    .dataframe tbody tr th:only-of-type {\n",
              "        vertical-align: middle;\n",
              "    }\n",
              "\n",
              "    .dataframe tbody tr th {\n",
              "        vertical-align: top;\n",
              "    }\n",
              "\n",
              "    .dataframe thead th {\n",
              "        text-align: right;\n",
              "    }\n",
              "</style>\n",
              "<table border=\"1\" class=\"dataframe\">\n",
              "  <thead>\n",
              "    <tr style=\"text-align: right;\">\n",
              "      <th></th>\n",
              "      <th>timestamp</th>\n",
              "      <th>cnt</th>\n",
              "      <th>t1</th>\n",
              "      <th>t2</th>\n",
              "      <th>hum</th>\n",
              "      <th>wind_speed</th>\n",
              "      <th>weather_code</th>\n",
              "      <th>is_holiday</th>\n",
              "      <th>is_weekend</th>\n",
              "      <th>season</th>\n",
              "    </tr>\n",
              "  </thead>\n",
              "  <tbody>\n",
              "    <tr>\n",
              "      <th>0</th>\n",
              "      <td>2015-01-04 00:00:00</td>\n",
              "      <td>182</td>\n",
              "      <td>3.0</td>\n",
              "      <td>2.0</td>\n",
              "      <td>93.0</td>\n",
              "      <td>6.0</td>\n",
              "      <td>3.0</td>\n",
              "      <td>0.0</td>\n",
              "      <td>1.0</td>\n",
              "      <td>3.0</td>\n",
              "    </tr>\n",
              "    <tr>\n",
              "      <th>1</th>\n",
              "      <td>2015-01-04 01:00:00</td>\n",
              "      <td>138</td>\n",
              "      <td>3.0</td>\n",
              "      <td>2.5</td>\n",
              "      <td>93.0</td>\n",
              "      <td>5.0</td>\n",
              "      <td>1.0</td>\n",
              "      <td>0.0</td>\n",
              "      <td>1.0</td>\n",
              "      <td>3.0</td>\n",
              "    </tr>\n",
              "    <tr>\n",
              "      <th>2</th>\n",
              "      <td>2015-01-04 02:00:00</td>\n",
              "      <td>134</td>\n",
              "      <td>2.5</td>\n",
              "      <td>2.5</td>\n",
              "      <td>96.5</td>\n",
              "      <td>0.0</td>\n",
              "      <td>1.0</td>\n",
              "      <td>0.0</td>\n",
              "      <td>1.0</td>\n",
              "      <td>3.0</td>\n",
              "    </tr>\n",
              "    <tr>\n",
              "      <th>3</th>\n",
              "      <td>2015-01-04 03:00:00</td>\n",
              "      <td>72</td>\n",
              "      <td>2.0</td>\n",
              "      <td>2.0</td>\n",
              "      <td>100.0</td>\n",
              "      <td>0.0</td>\n",
              "      <td>1.0</td>\n",
              "      <td>0.0</td>\n",
              "      <td>1.0</td>\n",
              "      <td>3.0</td>\n",
              "    </tr>\n",
              "    <tr>\n",
              "      <th>4</th>\n",
              "      <td>2015-01-04 04:00:00</td>\n",
              "      <td>47</td>\n",
              "      <td>2.0</td>\n",
              "      <td>0.0</td>\n",
              "      <td>93.0</td>\n",
              "      <td>6.5</td>\n",
              "      <td>1.0</td>\n",
              "      <td>0.0</td>\n",
              "      <td>1.0</td>\n",
              "      <td>3.0</td>\n",
              "    </tr>\n",
              "  </tbody>\n",
              "</table>\n",
              "</div>\n",
              "      <button class=\"colab-df-convert\" onclick=\"convertToInteractive('df-495a3c98-bfb2-45e1-afe8-6236acc5a76b')\"\n",
              "              title=\"Convert this dataframe to an interactive table.\"\n",
              "              style=\"display:none;\">\n",
              "        \n",
              "  <svg xmlns=\"http://www.w3.org/2000/svg\" height=\"24px\"viewBox=\"0 0 24 24\"\n",
              "       width=\"24px\">\n",
              "    <path d=\"M0 0h24v24H0V0z\" fill=\"none\"/>\n",
              "    <path d=\"M18.56 5.44l.94 2.06.94-2.06 2.06-.94-2.06-.94-.94-2.06-.94 2.06-2.06.94zm-11 1L8.5 8.5l.94-2.06 2.06-.94-2.06-.94L8.5 2.5l-.94 2.06-2.06.94zm10 10l.94 2.06.94-2.06 2.06-.94-2.06-.94-.94-2.06-.94 2.06-2.06.94z\"/><path d=\"M17.41 7.96l-1.37-1.37c-.4-.4-.92-.59-1.43-.59-.52 0-1.04.2-1.43.59L10.3 9.45l-7.72 7.72c-.78.78-.78 2.05 0 2.83L4 21.41c.39.39.9.59 1.41.59.51 0 1.02-.2 1.41-.59l7.78-7.78 2.81-2.81c.8-.78.8-2.07 0-2.86zM5.41 20L4 18.59l7.72-7.72 1.47 1.35L5.41 20z\"/>\n",
              "  </svg>\n",
              "      </button>\n",
              "      \n",
              "  <style>\n",
              "    .colab-df-container {\n",
              "      display:flex;\n",
              "      flex-wrap:wrap;\n",
              "      gap: 12px;\n",
              "    }\n",
              "\n",
              "    .colab-df-convert {\n",
              "      background-color: #E8F0FE;\n",
              "      border: none;\n",
              "      border-radius: 50%;\n",
              "      cursor: pointer;\n",
              "      display: none;\n",
              "      fill: #1967D2;\n",
              "      height: 32px;\n",
              "      padding: 0 0 0 0;\n",
              "      width: 32px;\n",
              "    }\n",
              "\n",
              "    .colab-df-convert:hover {\n",
              "      background-color: #E2EBFA;\n",
              "      box-shadow: 0px 1px 2px rgba(60, 64, 67, 0.3), 0px 1px 3px 1px rgba(60, 64, 67, 0.15);\n",
              "      fill: #174EA6;\n",
              "    }\n",
              "\n",
              "    [theme=dark] .colab-df-convert {\n",
              "      background-color: #3B4455;\n",
              "      fill: #D2E3FC;\n",
              "    }\n",
              "\n",
              "    [theme=dark] .colab-df-convert:hover {\n",
              "      background-color: #434B5C;\n",
              "      box-shadow: 0px 1px 3px 1px rgba(0, 0, 0, 0.15);\n",
              "      filter: drop-shadow(0px 1px 2px rgba(0, 0, 0, 0.3));\n",
              "      fill: #FFFFFF;\n",
              "    }\n",
              "  </style>\n",
              "\n",
              "      <script>\n",
              "        const buttonEl =\n",
              "          document.querySelector('#df-495a3c98-bfb2-45e1-afe8-6236acc5a76b button.colab-df-convert');\n",
              "        buttonEl.style.display =\n",
              "          google.colab.kernel.accessAllowed ? 'block' : 'none';\n",
              "\n",
              "        async function convertToInteractive(key) {\n",
              "          const element = document.querySelector('#df-495a3c98-bfb2-45e1-afe8-6236acc5a76b');\n",
              "          const dataTable =\n",
              "            await google.colab.kernel.invokeFunction('convertToInteractive',\n",
              "                                                     [key], {});\n",
              "          if (!dataTable) return;\n",
              "\n",
              "          const docLinkHtml = 'Like what you see? Visit the ' +\n",
              "            '<a target=\"_blank\" href=https://colab.research.google.com/notebooks/data_table.ipynb>data table notebook</a>'\n",
              "            + ' to learn more about interactive tables.';\n",
              "          element.innerHTML = '';\n",
              "          dataTable['output_type'] = 'display_data';\n",
              "          await google.colab.output.renderOutput(dataTable, element);\n",
              "          const docLink = document.createElement('div');\n",
              "          docLink.innerHTML = docLinkHtml;\n",
              "          element.appendChild(docLink);\n",
              "        }\n",
              "      </script>\n",
              "    </div>\n",
              "  </div>\n",
              "  "
            ],
            "text/plain": [
              "            timestamp  cnt   t1  ...  is_holiday  is_weekend  season\n",
              "0 2015-01-04 00:00:00  182  3.0  ...         0.0         1.0     3.0\n",
              "1 2015-01-04 01:00:00  138  3.0  ...         0.0         1.0     3.0\n",
              "2 2015-01-04 02:00:00  134  2.5  ...         0.0         1.0     3.0\n",
              "3 2015-01-04 03:00:00   72  2.0  ...         0.0         1.0     3.0\n",
              "4 2015-01-04 04:00:00   47  2.0  ...         0.0         1.0     3.0\n",
              "\n",
              "[5 rows x 10 columns]"
            ]
          },
          "metadata": {},
          "execution_count": 2
        }
      ]
    },
    {
      "cell_type": "code",
      "metadata": {
        "execution": {
          "iopub.status.busy": "2021-10-26T05:49:34.101418Z",
          "iopub.execute_input": "2021-10-26T05:49:34.101750Z",
          "iopub.status.idle": "2021-10-26T05:49:34.109703Z",
          "shell.execute_reply.started": "2021-10-26T05:49:34.101706Z",
          "shell.execute_reply": "2021-10-26T05:49:34.108993Z"
        },
        "trusted": true,
        "id": "lEfaJLaRgW9H",
        "colab": {
          "base_uri": "https://localhost:8080/"
        },
        "outputId": "7260e8ba-9acf-4f31-86f4-4a68e7c9209e"
      },
      "source": [
        "# 데이터 타입과 구조\n",
        "\n",
        "print('데이터의 구조는:', df.shape)\n",
        "print('데이터의 타입은:', df.dtypes)\n",
        "print('데이터의 컬럼은:', df.columns)"
      ],
      "execution_count": null,
      "outputs": [
        {
          "output_type": "stream",
          "name": "stdout",
          "text": [
            "데이터의 구조는: (17414, 10)\n",
            "데이터의 타입은: timestamp       datetime64[ns]\n",
            "cnt                      int64\n",
            "t1                     float64\n",
            "t2                     float64\n",
            "hum                    float64\n",
            "wind_speed             float64\n",
            "weather_code           float64\n",
            "is_holiday             float64\n",
            "is_weekend             float64\n",
            "season                 float64\n",
            "dtype: object\n",
            "데이터의 컬럼은: Index(['timestamp', 'cnt', 't1', 't2', 'hum', 'wind_speed', 'weather_code',\n",
            "       'is_holiday', 'is_weekend', 'season'],\n",
            "      dtype='object')\n"
          ]
        }
      ]
    },
    {
      "cell_type": "code",
      "metadata": {
        "execution": {
          "iopub.status.busy": "2021-10-26T05:49:34.110880Z",
          "iopub.execute_input": "2021-10-26T05:49:34.111524Z",
          "iopub.status.idle": "2021-10-26T05:49:34.129259Z",
          "shell.execute_reply.started": "2021-10-26T05:49:34.111491Z",
          "shell.execute_reply": "2021-10-26T05:49:34.128316Z"
        },
        "trusted": true,
        "id": "u10hMdYWgW9H",
        "colab": {
          "base_uri": "https://localhost:8080/"
        },
        "outputId": "6c33f4e8-f16d-48a3-9373-e8667a2f3413"
      },
      "source": [
        "df.isna().sum() #변수 별 결측개수 합"
      ],
      "execution_count": null,
      "outputs": [
        {
          "output_type": "execute_result",
          "data": {
            "text/plain": [
              "timestamp       0\n",
              "cnt             0\n",
              "t1              0\n",
              "t2              0\n",
              "hum             0\n",
              "wind_speed      0\n",
              "weather_code    0\n",
              "is_holiday      0\n",
              "is_weekend      0\n",
              "season          0\n",
              "dtype: int64"
            ]
          },
          "metadata": {},
          "execution_count": 5
        }
      ]
    },
    {
      "cell_type": "code",
      "metadata": {
        "execution": {
          "iopub.status.busy": "2021-10-26T05:49:34.130742Z",
          "iopub.execute_input": "2021-10-26T05:49:34.131145Z",
          "iopub.status.idle": "2021-10-26T05:49:34.809786Z",
          "shell.execute_reply.started": "2021-10-26T05:49:34.131107Z",
          "shell.execute_reply": "2021-10-26T05:49:34.809082Z"
        },
        "trusted": true,
        "id": "Bd5wSd7JgW9H",
        "colab": {
          "base_uri": "https://localhost:8080/",
          "height": 684
        },
        "outputId": "786f72e9-d68b-4bde-c2f3-77f69169ca09"
      },
      "source": [
        "msno.matrix(df)\n",
        "plt.show() # 결측치 개수 표"
      ],
      "execution_count": null,
      "outputs": [
        {
          "output_type": "display_data",
          "data": {
            "image/png": "[encoded data removed]",
            "text/plain": [
              "<Figure size 1800x720 with 2 Axes>"
            ]
          },
          "metadata": {
            "needs_background": "light"
          }
        }
      ]
    },
    {
      "cell_type": "code",
      "metadata": {
        "execution": {
          "iopub.status.busy": "2021-10-26T05:49:34.810998Z",
          "iopub.execute_input": "2021-10-26T05:49:34.811379Z",
          "iopub.status.idle": "2021-10-26T05:49:34.848365Z",
          "shell.execute_reply.started": "2021-10-26T05:49:34.811347Z",
          "shell.execute_reply": "2021-10-26T05:49:34.847356Z"
        },
        "trusted": true,
        "id": "sD-kM3TNgW9I",
        "colab": {
          "base_uri": "https://localhost:8080/",
          "height": 206
        },
        "outputId": "f95fcf51-7034-4a76-c825-c48ef8a6f98f"
      },
      "source": [
        "# timestamp 변수값 속성에따라 분류하여 년,월, 요일, 시간 변수 새로 생성\n",
        "df['year'] = df['timestamp'].dt.year\n",
        "df['month'] = df['timestamp'].dt.month\n",
        "df['dayofweek'] = df['timestamp'].dt.dayofweek\n",
        "df['hour'] = df['timestamp'].dt.hour\n",
        "df.head()\n"
      ],
      "execution_count": null,
      "outputs": [
        {
          "output_type": "execute_result",
          "data": {
            "text/html": [
              "\n",
              "  <div id=\"df-554cb6a9-196c-4b1b-8dea-9a53330e2d94\">\n",
              "    <div class=\"colab-df-container\">\n",
              "      <div>\n",
              "<style scoped>\n",
              "    .dataframe tbody tr th:only-of-type {\n",
              "        vertical-align: middle;\n",
              "    }\n",
              "\n",
              "    .dataframe tbody tr th {\n",
              "        vertical-align: top;\n",
              "    }\n",
              "\n",
              "    .dataframe thead th {\n",
              "        text-align: right;\n",
              "    }\n",
              "</style>\n",
              "<table border=\"1\" class=\"dataframe\">\n",
              "  <thead>\n",
              "    <tr style=\"text-align: right;\">\n",
              "      <th></th>\n",
              "      <th>timestamp</th>\n",
              "      <th>cnt</th>\n",
              "      <th>t1</th>\n",
              "      <th>t2</th>\n",
              "      <th>hum</th>\n",
              "      <th>wind_speed</th>\n",
              "      <th>weather_code</th>\n",
              "      <th>is_holiday</th>\n",
              "      <th>is_weekend</th>\n",
              "      <th>season</th>\n",
              "      <th>year</th>\n",
              "      <th>month</th>\n",
              "      <th>dayofweek</th>\n",
              "      <th>hour</th>\n",
              "    </tr>\n",
              "  </thead>\n",
              "  <tbody>\n",
              "    <tr>\n",
              "      <th>0</th>\n",
              "      <td>2015-01-04 00:00:00</td>\n",
              "      <td>182</td>\n",
              "      <td>3.0</td>\n",
              "      <td>2.0</td>\n",
              "      <td>93.0</td>\n",
              "      <td>6.0</td>\n",
              "      <td>3.0</td>\n",
              "      <td>0.0</td>\n",
              "      <td>1.0</td>\n",
              "      <td>3.0</td>\n",
              "      <td>2015</td>\n",
              "      <td>1</td>\n",
              "      <td>6</td>\n",
              "      <td>0</td>\n",
              "    </tr>\n",
              "    <tr>\n",
              "      <th>1</th>\n",
              "      <td>2015-01-04 01:00:00</td>\n",
              "      <td>138</td>\n",
              "      <td>3.0</td>\n",
              "      <td>2.5</td>\n",
              "      <td>93.0</td>\n",
              "      <td>5.0</td>\n",
              "      <td>1.0</td>\n",
              "      <td>0.0</td>\n",
              "      <td>1.0</td>\n",
              "      <td>3.0</td>\n",
              "      <td>2015</td>\n",
              "      <td>1</td>\n",
              "      <td>6</td>\n",
              "      <td>1</td>\n",
              "    </tr>\n",
              "    <tr>\n",
              "      <th>2</th>\n",
              "      <td>2015-01-04 02:00:00</td>\n",
              "      <td>134</td>\n",
              "      <td>2.5</td>\n",
              "      <td>2.5</td>\n",
              "      <td>96.5</td>\n",
              "      <td>0.0</td>\n",
              "      <td>1.0</td>\n",
              "      <td>0.0</td>\n",
              "      <td>1.0</td>\n",
              "      <td>3.0</td>\n",
              "      <td>2015</td>\n",
              "      <td>1</td>\n",
              "      <td>6</td>\n",
              "      <td>2</td>\n",
              "    </tr>\n",
              "    <tr>\n",
              "      <th>3</th>\n",
              "      <td>2015-01-04 03:00:00</td>\n",
              "      <td>72</td>\n",
              "      <td>2.0</td>\n",
              "      <td>2.0</td>\n",
              "      <td>100.0</td>\n",
              "      <td>0.0</td>\n",
              "      <td>1.0</td>\n",
              "      <td>0.0</td>\n",
              "      <td>1.0</td>\n",
              "      <td>3.0</td>\n",
              "      <td>2015</td>\n",
              "      <td>1</td>\n",
              "      <td>6</td>\n",
              "      <td>3</td>\n",
              "    </tr>\n",
              "    <tr>\n",
              "      <th>4</th>\n",
              "      <td>2015-01-04 04:00:00</td>\n",
              "      <td>47</td>\n",
              "      <td>2.0</td>\n",
              "      <td>0.0</td>\n",
              "      <td>93.0</td>\n",
              "      <td>6.5</td>\n",
              "      <td>1.0</td>\n",
              "      <td>0.0</td>\n",
              "      <td>1.0</td>\n",
              "      <td>3.0</td>\n",
              "      <td>2015</td>\n",
              "      <td>1</td>\n",
              "      <td>6</td>\n",
              "      <td>4</td>\n",
              "    </tr>\n",
              "  </tbody>\n",
              "</table>\n",
              "</div>\n",
              "      <button class=\"colab-df-convert\" onclick=\"convertToInteractive('df-554cb6a9-196c-4b1b-8dea-9a53330e2d94')\"\n",
              "              title=\"Convert this dataframe to an interactive table.\"\n",
              "              style=\"display:none;\">\n",
              "        \n",
              "  <svg xmlns=\"http://www.w3.org/2000/svg\" height=\"24px\"viewBox=\"0 0 24 24\"\n",
              "       width=\"24px\">\n",
              "    <path d=\"M0 0h24v24H0V0z\" fill=\"none\"/>\n",
              "    <path d=\"M18.56 5.44l.94 2.06.94-2.06 2.06-.94-2.06-.94-.94-2.06-.94 2.06-2.06.94zm-11 1L8.5 8.5l.94-2.06 2.06-.94-2.06-.94L8.5 2.5l-.94 2.06-2.06.94zm10 10l.94 2.06.94-2.06 2.06-.94-2.06-.94-.94-2.06-.94 2.06-2.06.94z\"/><path d=\"M17.41 7.96l-1.37-1.37c-.4-.4-.92-.59-1.43-.59-.52 0-1.04.2-1.43.59L10.3 9.45l-7.72 7.72c-.78.78-.78 2.05 0 2.83L4 21.41c.39.39.9.59 1.41.59.51 0 1.02-.2 1.41-.59l7.78-7.78 2.81-2.81c.8-.78.8-2.07 0-2.86zM5.41 20L4 18.59l7.72-7.72 1.47 1.35L5.41 20z\"/>\n",
              "  </svg>\n",
              "      </button>\n",
              "      \n",
              "  <style>\n",
              "    .colab-df-container {\n",
              "      display:flex;\n",
              "      flex-wrap:wrap;\n",
              "      gap: 12px;\n",
              "    }\n",
              "\n",
              "    .colab-df-convert {\n",
              "      background-color: #E8F0FE;\n",
              "      border: none;\n",
              "      border-radius: 50%;\n",
              "      cursor: pointer;\n",
              "      display: none;\n",
              "      fill: #1967D2;\n",
              "      height: 32px;\n",
              "      padding: 0 0 0 0;\n",
              "      width: 32px;\n",
              "    }\n",
              "\n",
              "    .colab-df-convert:hover {\n",
              "      background-color: #E2EBFA;\n",
              "      box-shadow: 0px 1px 2px rgba(60, 64, 67, 0.3), 0px 1px 3px 1px rgba(60, 64, 67, 0.15);\n",
              "      fill: #174EA6;\n",
              "    }\n",
              "\n",
              "    [theme=dark] .colab-df-convert {\n",
              "      background-color: #3B4455;\n",
              "      fill: #D2E3FC;\n",
              "    }\n",
              "\n",
              "    [theme=dark] .colab-df-convert:hover {\n",
              "      background-color: #434B5C;\n",
              "      box-shadow: 0px 1px 3px 1px rgba(0, 0, 0, 0.15);\n",
              "      filter: drop-shadow(0px 1px 2px rgba(0, 0, 0, 0.3));\n",
              "      fill: #FFFFFF;\n",
              "    }\n",
              "  </style>\n",
              "\n",
              "      <script>\n",
              "        const buttonEl =\n",
              "          document.querySelector('#df-554cb6a9-196c-4b1b-8dea-9a53330e2d94 button.colab-df-convert');\n",
              "        buttonEl.style.display =\n",
              "          google.colab.kernel.accessAllowed ? 'block' : 'none';\n",
              "\n",
              "        async function convertToInteractive(key) {\n",
              "          const element = document.querySelector('#df-554cb6a9-196c-4b1b-8dea-9a53330e2d94');\n",
              "          const dataTable =\n",
              "            await google.colab.kernel.invokeFunction('convertToInteractive',\n",
              "                                                     [key], {});\n",
              "          if (!dataTable) return;\n",
              "\n",
              "          const docLinkHtml = 'Like what you see? Visit the ' +\n",
              "            '<a target=\"_blank\" href=https://colab.research.google.com/notebooks/data_table.ipynb>data table notebook</a>'\n",
              "            + ' to learn more about interactive tables.';\n",
              "          element.innerHTML = '';\n",
              "          dataTable['output_type'] = 'display_data';\n",
              "          await google.colab.output.renderOutput(dataTable, element);\n",
              "          const docLink = document.createElement('div');\n",
              "          docLink.innerHTML = docLinkHtml;\n",
              "          element.appendChild(docLink);\n",
              "        }\n",
              "      </script>\n",
              "    </div>\n",
              "  </div>\n",
              "  "
            ],
            "text/plain": [
              "            timestamp  cnt   t1   t2  ...  year  month  dayofweek  hour\n",
              "0 2015-01-04 00:00:00  182  3.0  2.0  ...  2015      1          6     0\n",
              "1 2015-01-04 01:00:00  138  3.0  2.5  ...  2015      1          6     1\n",
              "2 2015-01-04 02:00:00  134  2.5  2.5  ...  2015      1          6     2\n",
              "3 2015-01-04 03:00:00   72  2.0  2.0  ...  2015      1          6     3\n",
              "4 2015-01-04 04:00:00   47  2.0  0.0  ...  2015      1          6     4\n",
              "\n",
              "[5 rows x 14 columns]"
            ]
          },
          "metadata": {},
          "execution_count": 7
        }
      ]
    },
    {
      "cell_type": "code",
      "metadata": {
        "execution": {
          "iopub.status.busy": "2021-10-26T05:49:48.671633Z",
          "iopub.execute_input": "2021-10-26T05:49:48.671955Z",
          "iopub.status.idle": "2021-10-26T05:49:48.691581Z",
          "shell.execute_reply.started": "2021-10-26T05:49:48.671922Z",
          "shell.execute_reply": "2021-10-26T05:49:48.690356Z"
        },
        "trusted": true,
        "id": "ofYhXGKigW9I",
        "colab": {
          "base_uri": "https://localhost:8080/"
        },
        "outputId": "45a05957-53fc-42e8-a040-392b3be08598"
      },
      "source": [
        "# 값 별 합계\n",
        "df['year'].value_counts()\n",
        "df['month'].value_counts()\n",
        "df['dayofweek'].value_counts() \n",
        "df['weather_code'].value_counts()"
      ],
      "execution_count": null,
      "outputs": [
        {
          "output_type": "execute_result",
          "data": {
            "text/plain": [
              "1.0     6150\n",
              "2.0     4034\n",
              "3.0     3551\n",
              "7.0     2141\n",
              "4.0     1464\n",
              "26.0      60\n",
              "10.0      14\n",
              "Name: weather_code, dtype: int64"
            ]
          },
          "metadata": {},
          "execution_count": 8
        }
      ]
    },
    {
      "cell_type": "code",
      "metadata": {
        "trusted": true,
        "id": "sgS-ExrDgW9J",
        "colab": {
          "base_uri": "https://localhost:8080/",
          "height": 409
        },
        "outputId": "349705af-e604-4241-e31c-a3c563a2e650"
      },
      "source": [
        "a, b = plt.subplots(1, 1, figsize=(10, 5)) # 그래프 판 만들기\n",
        "sns.boxplot(df['year'], df['cnt']) # boxplot 그래프"
      ],
      "execution_count": null,
      "outputs": [
        {
          "output_type": "stream",
          "name": "stderr",
          "text": [
            "/usr/local/lib/python3.7/dist-packages/seaborn/_decorators.py:43: FutureWarning: Pass the following variables as keyword args: x, y. From version 0.12, the only valid positional argument will be `data`, and passing other arguments without an explicit keyword will result in an error or misinterpretation.\n",
            "  FutureWarning\n"
          ]
        },
        {
          "output_type": "execute_result",
          "data": {
            "text/plain": [
              "<matplotlib.axes._subplots.AxesSubplot at 0x7ff7ac2eacd0>"
            ]
          },
          "metadata": {},
          "execution_count": 9
        },
        {
          "output_type": "display_data",
          "data": {
            "image/png": "[encoded data removed]",
            "text/plain": [
              "<Figure size 720x360 with 1 Axes>"
            ]
          },
          "metadata": {
            "needs_background": "light"
          }
        }
      ]
    },
    {
      "cell_type": "code",
      "metadata": {
        "execution": {
          "iopub.status.busy": "2021-10-26T05:49:55.111818Z",
          "iopub.execute_input": "2021-10-26T05:49:55.112150Z",
          "iopub.status.idle": "2021-10-26T05:49:55.581164Z",
          "shell.execute_reply.started": "2021-10-26T05:49:55.112115Z",
          "shell.execute_reply": "2021-10-26T05:49:55.580299Z"
        },
        "trusted": true,
        "id": "auDr2JQjgW9J",
        "colab": {
          "base_uri": "https://localhost:8080/",
          "height": 409
        },
        "outputId": "7af7af27-43a5-4096-b1dc-31461d0f5248"
      },
      "source": [
        "a, b = plt.subplots(1, 1, figsize=(10, 5)) # 그래프 판 만들기\n",
        "sns.boxplot(df['month'], df['cnt']) # boxplot 그래프"
      ],
      "execution_count": null,
      "outputs": [
        {
          "output_type": "stream",
          "name": "stderr",
          "text": [
            "/usr/local/lib/python3.7/dist-packages/seaborn/_decorators.py:43: FutureWarning: Pass the following variables as keyword args: x, y. From version 0.12, the only valid positional argument will be `data`, and passing other arguments without an explicit keyword will result in an error or misinterpretation.\n",
            "  FutureWarning\n"
          ]
        },
        {
          "output_type": "execute_result",
          "data": {
            "text/plain": [
              "<matplotlib.axes._subplots.AxesSubplot at 0x7ff7a3905ed0>"
            ]
          },
          "metadata": {},
          "execution_count": 10
        },
        {
          "output_type": "display_data",
          "data": {
            "image/png": "[encoded data removed]",
            "text/plain": [
              "<Figure size 720x360 with 1 Axes>"
            ]
          },
          "metadata": {
            "needs_background": "light"
          }
        }
      ]
    },
    {
      "cell_type": "code",
      "metadata": {
        "execution": {
          "iopub.status.busy": "2021-10-26T05:49:58.358159Z",
          "iopub.execute_input": "2021-10-26T05:49:58.358515Z",
          "iopub.status.idle": "2021-10-26T05:49:58.363839Z",
          "shell.execute_reply.started": "2021-10-26T05:49:58.358478Z",
          "shell.execute_reply": "2021-10-26T05:49:58.363136Z"
        },
        "trusted": true,
        "id": "-yNPmwYBgW9K"
      },
      "source": [
        "# 그래프 함수 만들기\n",
        "\n",
        "def plot_bar(data, feature):\n",
        "    fig = plt.figure(figsize=(12, 3))\n",
        "    sns.barplot(x=feature, y='cnt', data=data, palette='Set3', orient='v')"
      ],
      "execution_count": null,
      "outputs": []
    },
    {
      "cell_type": "code",
      "metadata": {
        "execution": {
          "iopub.status.busy": "2021-10-26T05:50:06.354383Z",
          "iopub.execute_input": "2021-10-26T05:50:06.354814Z",
          "iopub.status.idle": "2021-10-26T05:50:07.640110Z",
          "shell.execute_reply.started": "2021-10-26T05:50:06.354780Z",
          "shell.execute_reply": "2021-10-26T05:50:07.639308Z"
        },
        "trusted": true,
        "id": "MHmvKEMPgW9K",
        "colab": {
          "base_uri": "https://localhost:8080/",
          "height": 225
        },
        "outputId": "532a9818-790a-4769-a755-0ccb5f045a19"
      },
      "source": [
        "plot_bar(df, 'hour')"
      ],
      "execution_count": null,
      "outputs": [
        {
          "output_type": "display_data",
          "data": {
            "image/png": "[encoded data removed]",
            "text/plain": [
              "<Figure size 864x216 with 1 Axes>"
            ]
          },
          "metadata": {
            "needs_background": "light"
          }
        }
      ]
    },
    {
      "cell_type": "code",
      "metadata": {
        "execution": {
          "iopub.status.busy": "2021-10-26T05:50:09.320837Z",
          "iopub.execute_input": "2021-10-26T05:50:09.321253Z",
          "iopub.status.idle": "2021-10-26T05:50:09.900797Z",
          "shell.execute_reply.started": "2021-10-26T05:50:09.321220Z",
          "shell.execute_reply": "2021-10-26T05:50:09.900210Z"
        },
        "trusted": true,
        "id": "4kl3ZuVFgW9K",
        "colab": {
          "base_uri": "https://localhost:8080/",
          "height": 225
        },
        "outputId": "2c02d0ea-a651-437a-c0fa-a416ea254b19"
      },
      "source": [
        "plot_bar(df, 'dayofweek')"
      ],
      "execution_count": null,
      "outputs": [
        {
          "output_type": "display_data",
          "data": {
            "image/png": "[encoded data removed]",
            "text/plain": [
              "<Figure size 864x216 with 1 Axes>"
            ]
          },
          "metadata": {
            "needs_background": "light"
          }
        }
      ]
    },
    {
      "cell_type": "code",
      "metadata": {
        "execution": {
          "iopub.status.busy": "2021-10-26T05:50:14.677818Z",
          "iopub.execute_input": "2021-10-26T05:50:14.678421Z",
          "iopub.status.idle": "2021-10-26T05:50:14.685057Z",
          "shell.execute_reply.started": "2021-10-26T05:50:14.678369Z",
          "shell.execute_reply": "2021-10-26T05:50:14.683805Z"
        },
        "trusted": true,
        "id": "OTMecb1lgW9L"
      },
      "source": [
        "# 아웃라이어 제거 (시그마 이상치 제거법) 함수 만들기\n",
        "\n",
        "def is_outliers(s):\n",
        "    lower_limit = s.mean() - (s.std()*3)\n",
        "    upper_limit = s.mean() + (s.std()*3)\n",
        "    return ~s.between(lower_limit, upper_limit)"
      ],
      "execution_count": null,
      "outputs": []
    },
    {
      "cell_type": "code",
      "metadata": {
        "execution": {
          "iopub.status.busy": "2021-10-26T05:50:17.021413Z",
          "iopub.execute_input": "2021-10-26T05:50:17.021717Z",
          "iopub.status.idle": "2021-10-26T05:50:17.057004Z",
          "shell.execute_reply.started": "2021-10-26T05:50:17.021682Z",
          "shell.execute_reply": "2021-10-26T05:50:17.056066Z"
        },
        "trusted": true,
        "id": "rknh_1MEgW9L",
        "colab": {
          "base_uri": "https://localhost:8080/"
        },
        "outputId": "ae529250-8ebf-4c01-c290-9b1e90f52cfc"
      },
      "source": [
        "df_out = df[~df.groupby('hour')['cnt'].apply(is_outliers)]\n",
        "\n",
        "print('이상치 제거전:', df.shape)\n",
        "print('이상치 제거후:', df_out.shape)"
      ],
      "execution_count": null,
      "outputs": [
        {
          "output_type": "stream",
          "name": "stdout",
          "text": [
            "이상치 제거전: (17414, 14)\n",
            "이상치 제거후: (17265, 14)\n"
          ]
        }
      ]
    },
    {
      "cell_type": "code",
      "metadata": {
        "execution": {
          "iopub.status.busy": "2021-10-26T05:50:19.680480Z",
          "iopub.execute_input": "2021-10-26T05:50:19.680962Z",
          "iopub.status.idle": "2021-10-26T05:50:19.689684Z",
          "shell.execute_reply.started": "2021-10-26T05:50:19.680929Z",
          "shell.execute_reply": "2021-10-26T05:50:19.688856Z"
        },
        "trusted": true,
        "id": "wC9LICm_gW9L",
        "colab": {
          "base_uri": "https://localhost:8080/"
        },
        "outputId": "23655566-a178-4156-dd81-c89d1e178db6"
      },
      "source": [
        "df_out.dtypes"
      ],
      "execution_count": null,
      "outputs": [
        {
          "output_type": "execute_result",
          "data": {
            "text/plain": [
              "timestamp       datetime64[ns]\n",
              "cnt                      int64\n",
              "t1                     float64\n",
              "t2                     float64\n",
              "hum                    float64\n",
              "wind_speed             float64\n",
              "weather_code           float64\n",
              "is_holiday             float64\n",
              "is_weekend             float64\n",
              "season                 float64\n",
              "year                     int64\n",
              "month                    int64\n",
              "dayofweek                int64\n",
              "hour                     int64\n",
              "dtype: object"
            ]
          },
          "metadata": {},
          "execution_count": 16
        }
      ]
    },
    {
      "cell_type": "code",
      "metadata": {
        "execution": {
          "iopub.status.busy": "2021-10-26T05:50:22.219210Z",
          "iopub.execute_input": "2021-10-26T05:50:22.219752Z",
          "iopub.status.idle": "2021-10-26T05:50:22.235991Z",
          "shell.execute_reply.started": "2021-10-26T05:50:22.219715Z",
          "shell.execute_reply": "2021-10-26T05:50:22.234831Z"
        },
        "trusted": true,
        "id": "1QpLnu6QgW9L",
        "colab": {
          "base_uri": "https://localhost:8080/"
        },
        "outputId": "37114190-4db3-423d-db92-43a5edbdc02b"
      },
      "source": [
        "#범주형 데이터로 바꿔주기\n",
        "df_out['weather_code'] = df_out['weather_code'].astype('category')\n",
        "df_out['season'] = df_out['season'].astype('category')\n",
        "df_out['year'] = df_out['year'].astype('category')\n",
        "df_out['month'] = df_out['month'].astype('category')\n",
        "df_out['dayofweek'] = df_out['dayofweek'].astype('category')"
      ],
      "execution_count": null,
      "outputs": [
        {
          "output_type": "stream",
          "name": "stderr",
          "text": [
            "/usr/local/lib/python3.7/dist-packages/ipykernel_launcher.py:2: SettingWithCopyWarning: \n",
            "A value is trying to be set on a copy of a slice from a DataFrame.\n",
            "Try using .loc[row_indexer,col_indexer] = value instead\n",
            "\n",
            "See the caveats in the documentation: https://pandas.pydata.org/pandas-docs/stable/user_guide/indexing.html#returning-a-view-versus-a-copy\n",
            "  \n",
            "/usr/local/lib/python3.7/dist-packages/ipykernel_launcher.py:3: SettingWithCopyWarning: \n",
            "A value is trying to be set on a copy of a slice from a DataFrame.\n",
            "Try using .loc[row_indexer,col_indexer] = value instead\n",
            "\n",
            "See the caveats in the documentation: https://pandas.pydata.org/pandas-docs/stable/user_guide/indexing.html#returning-a-view-versus-a-copy\n",
            "  This is separate from the ipykernel package so we can avoid doing imports until\n",
            "/usr/local/lib/python3.7/dist-packages/ipykernel_launcher.py:4: SettingWithCopyWarning: \n",
            "A value is trying to be set on a copy of a slice from a DataFrame.\n",
            "Try using .loc[row_indexer,col_indexer] = value instead\n",
            "\n",
            "See the caveats in the documentation: https://pandas.pydata.org/pandas-docs/stable/user_guide/indexing.html#returning-a-view-versus-a-copy\n",
            "  after removing the cwd from sys.path.\n",
            "/usr/local/lib/python3.7/dist-packages/ipykernel_launcher.py:5: SettingWithCopyWarning: \n",
            "A value is trying to be set on a copy of a slice from a DataFrame.\n",
            "Try using .loc[row_indexer,col_indexer] = value instead\n",
            "\n",
            "See the caveats in the documentation: https://pandas.pydata.org/pandas-docs/stable/user_guide/indexing.html#returning-a-view-versus-a-copy\n",
            "  \"\"\"\n",
            "/usr/local/lib/python3.7/dist-packages/ipykernel_launcher.py:6: SettingWithCopyWarning: \n",
            "A value is trying to be set on a copy of a slice from a DataFrame.\n",
            "Try using .loc[row_indexer,col_indexer] = value instead\n",
            "\n",
            "See the caveats in the documentation: https://pandas.pydata.org/pandas-docs/stable/user_guide/indexing.html#returning-a-view-versus-a-copy\n",
            "  \n"
          ]
        }
      ]
    },
    {
      "cell_type": "code",
      "metadata": {
        "execution": {
          "iopub.status.busy": "2021-10-26T05:50:24.581648Z",
          "iopub.execute_input": "2021-10-26T05:50:24.581947Z",
          "iopub.status.idle": "2021-10-26T05:50:24.616846Z",
          "shell.execute_reply.started": "2021-10-26T05:50:24.581909Z",
          "shell.execute_reply": "2021-10-26T05:50:24.615507Z"
        },
        "trusted": true,
        "id": "vSDv0DiSgW9L",
        "colab": {
          "base_uri": "https://localhost:8080/",
          "height": 444
        },
        "outputId": "4febe2bc-495b-4c13-b125-992c7ed42a16"
      },
      "source": [
        "# pandas 라이브러리 내에 더미변수 생성해주는 함수 이용 #딥러닝에서는 꼭 처리해줘야함(학습하기 용히하도록)\n",
        "df_out = pd.get_dummies(df_out, columns=['weather_code', 'season', 'year', 'month', 'dayofweek'])\n",
        "df_out.head()"
      ],
      "execution_count": null,
      "outputs": [
        {
          "output_type": "execute_result",
          "data": {
            "text/html": [
              "\n",
              "  <div id=\"df-5051af39-9e01-4a88-b408-6e2523c95725\">\n",
              "    <div class=\"colab-df-container\">\n",
              "      <div>\n",
              "<style scoped>\n",
              "    .dataframe tbody tr th:only-of-type {\n",
              "        vertical-align: middle;\n",
              "    }\n",
              "\n",
              "    .dataframe tbody tr th {\n",
              "        vertical-align: top;\n",
              "    }\n",
              "\n",
              "    .dataframe thead th {\n",
              "        text-align: right;\n",
              "    }\n",
              "</style>\n",
              "<table border=\"1\" class=\"dataframe\">\n",
              "  <thead>\n",
              "    <tr style=\"text-align: right;\">\n",
              "      <th></th>\n",
              "      <th>timestamp</th>\n",
              "      <th>cnt</th>\n",
              "      <th>t1</th>\n",
              "      <th>t2</th>\n",
              "      <th>hum</th>\n",
              "      <th>wind_speed</th>\n",
              "      <th>is_holiday</th>\n",
              "      <th>is_weekend</th>\n",
              "      <th>hour</th>\n",
              "      <th>weather_code_1.0</th>\n",
              "      <th>weather_code_2.0</th>\n",
              "      <th>weather_code_3.0</th>\n",
              "      <th>weather_code_4.0</th>\n",
              "      <th>weather_code_7.0</th>\n",
              "      <th>weather_code_10.0</th>\n",
              "      <th>weather_code_26.0</th>\n",
              "      <th>season_0.0</th>\n",
              "      <th>season_1.0</th>\n",
              "      <th>season_2.0</th>\n",
              "      <th>season_3.0</th>\n",
              "      <th>year_2015</th>\n",
              "      <th>year_2016</th>\n",
              "      <th>year_2017</th>\n",
              "      <th>month_1</th>\n",
              "      <th>month_2</th>\n",
              "      <th>month_3</th>\n",
              "      <th>month_4</th>\n",
              "      <th>month_5</th>\n",
              "      <th>month_6</th>\n",
              "      <th>month_7</th>\n",
              "      <th>month_8</th>\n",
              "      <th>month_9</th>\n",
              "      <th>month_10</th>\n",
              "      <th>month_11</th>\n",
              "      <th>month_12</th>\n",
              "      <th>dayofweek_0</th>\n",
              "      <th>dayofweek_1</th>\n",
              "      <th>dayofweek_2</th>\n",
              "      <th>dayofweek_3</th>\n",
              "      <th>dayofweek_4</th>\n",
              "      <th>dayofweek_5</th>\n",
              "      <th>dayofweek_6</th>\n",
              "    </tr>\n",
              "  </thead>\n",
              "  <tbody>\n",
              "    <tr>\n",
              "      <th>0</th>\n",
              "      <td>2015-01-04 00:00:00</td>\n",
              "      <td>182</td>\n",
              "      <td>3.0</td>\n",
              "      <td>2.0</td>\n",
              "      <td>93.0</td>\n",
              "      <td>6.0</td>\n",
              "      <td>0.0</td>\n",
              "      <td>1.0</td>\n",
              "      <td>0</td>\n",
              "      <td>0</td>\n",
              "      <td>0</td>\n",
              "      <td>1</td>\n",
              "      <td>0</td>\n",
              "      <td>0</td>\n",
              "      <td>0</td>\n",
              "      <td>0</td>\n",
              "      <td>0</td>\n",
              "      <td>0</td>\n",
              "      <td>0</td>\n",
              "      <td>1</td>\n",
              "      <td>1</td>\n",
              "      <td>0</td>\n",
              "      <td>0</td>\n",
              "      <td>1</td>\n",
              "      <td>0</td>\n",
              "      <td>0</td>\n",
              "      <td>0</td>\n",
              "      <td>0</td>\n",
              "      <td>0</td>\n",
              "      <td>0</td>\n",
              "      <td>0</td>\n",
              "      <td>0</td>\n",
              "      <td>0</td>\n",
              "      <td>0</td>\n",
              "      <td>0</td>\n",
              "      <td>0</td>\n",
              "      <td>0</td>\n",
              "      <td>0</td>\n",
              "      <td>0</td>\n",
              "      <td>0</td>\n",
              "      <td>0</td>\n",
              "      <td>1</td>\n",
              "    </tr>\n",
              "    <tr>\n",
              "      <th>1</th>\n",
              "      <td>2015-01-04 01:00:00</td>\n",
              "      <td>138</td>\n",
              "      <td>3.0</td>\n",
              "      <td>2.5</td>\n",
              "      <td>93.0</td>\n",
              "      <td>5.0</td>\n",
              "      <td>0.0</td>\n",
              "      <td>1.0</td>\n",
              "      <td>1</td>\n",
              "      <td>1</td>\n",
              "      <td>0</td>\n",
              "      <td>0</td>\n",
              "      <td>0</td>\n",
              "      <td>0</td>\n",
              "      <td>0</td>\n",
              "      <td>0</td>\n",
              "      <td>0</td>\n",
              "      <td>0</td>\n",
              "      <td>0</td>\n",
              "      <td>1</td>\n",
              "      <td>1</td>\n",
              "      <td>0</td>\n",
              "      <td>0</td>\n",
              "      <td>1</td>\n",
              "      <td>0</td>\n",
              "      <td>0</td>\n",
              "      <td>0</td>\n",
              "      <td>0</td>\n",
              "      <td>0</td>\n",
              "      <td>0</td>\n",
              "      <td>0</td>\n",
              "      <td>0</td>\n",
              "      <td>0</td>\n",
              "      <td>0</td>\n",
              "      <td>0</td>\n",
              "      <td>0</td>\n",
              "      <td>0</td>\n",
              "      <td>0</td>\n",
              "      <td>0</td>\n",
              "      <td>0</td>\n",
              "      <td>0</td>\n",
              "      <td>1</td>\n",
              "    </tr>\n",
              "    <tr>\n",
              "      <th>2</th>\n",
              "      <td>2015-01-04 02:00:00</td>\n",
              "      <td>134</td>\n",
              "      <td>2.5</td>\n",
              "      <td>2.5</td>\n",
              "      <td>96.5</td>\n",
              "      <td>0.0</td>\n",
              "      <td>0.0</td>\n",
              "      <td>1.0</td>\n",
              "      <td>2</td>\n",
              "      <td>1</td>\n",
              "      <td>0</td>\n",
              "      <td>0</td>\n",
              "      <td>0</td>\n",
              "      <td>0</td>\n",
              "      <td>0</td>\n",
              "      <td>0</td>\n",
              "      <td>0</td>\n",
              "      <td>0</td>\n",
              "      <td>0</td>\n",
              "      <td>1</td>\n",
              "      <td>1</td>\n",
              "      <td>0</td>\n",
              "      <td>0</td>\n",
              "      <td>1</td>\n",
              "      <td>0</td>\n",
              "      <td>0</td>\n",
              "      <td>0</td>\n",
              "      <td>0</td>\n",
              "      <td>0</td>\n",
              "      <td>0</td>\n",
              "      <td>0</td>\n",
              "      <td>0</td>\n",
              "      <td>0</td>\n",
              "      <td>0</td>\n",
              "      <td>0</td>\n",
              "      <td>0</td>\n",
              "      <td>0</td>\n",
              "      <td>0</td>\n",
              "      <td>0</td>\n",
              "      <td>0</td>\n",
              "      <td>0</td>\n",
              "      <td>1</td>\n",
              "    </tr>\n",
              "    <tr>\n",
              "      <th>3</th>\n",
              "      <td>2015-01-04 03:00:00</td>\n",
              "      <td>72</td>\n",
              "      <td>2.0</td>\n",
              "      <td>2.0</td>\n",
              "      <td>100.0</td>\n",
              "      <td>0.0</td>\n",
              "      <td>0.0</td>\n",
              "      <td>1.0</td>\n",
              "      <td>3</td>\n",
              "      <td>1</td>\n",
              "      <td>0</td>\n",
              "      <td>0</td>\n",
              "      <td>0</td>\n",
              "      <td>0</td>\n",
              "      <td>0</td>\n",
              "      <td>0</td>\n",
              "      <td>0</td>\n",
              "      <td>0</td>\n",
              "      <td>0</td>\n",
              "      <td>1</td>\n",
              "      <td>1</td>\n",
              "      <td>0</td>\n",
              "      <td>0</td>\n",
              "      <td>1</td>\n",
              "      <td>0</td>\n",
              "      <td>0</td>\n",
              "      <td>0</td>\n",
              "      <td>0</td>\n",
              "      <td>0</td>\n",
              "      <td>0</td>\n",
              "      <td>0</td>\n",
              "      <td>0</td>\n",
              "      <td>0</td>\n",
              "      <td>0</td>\n",
              "      <td>0</td>\n",
              "      <td>0</td>\n",
              "      <td>0</td>\n",
              "      <td>0</td>\n",
              "      <td>0</td>\n",
              "      <td>0</td>\n",
              "      <td>0</td>\n",
              "      <td>1</td>\n",
              "    </tr>\n",
              "    <tr>\n",
              "      <th>4</th>\n",
              "      <td>2015-01-04 04:00:00</td>\n",
              "      <td>47</td>\n",
              "      <td>2.0</td>\n",
              "      <td>0.0</td>\n",
              "      <td>93.0</td>\n",
              "      <td>6.5</td>\n",
              "      <td>0.0</td>\n",
              "      <td>1.0</td>\n",
              "      <td>4</td>\n",
              "      <td>1</td>\n",
              "      <td>0</td>\n",
              "      <td>0</td>\n",
              "      <td>0</td>\n",
              "      <td>0</td>\n",
              "      <td>0</td>\n",
              "      <td>0</td>\n",
              "      <td>0</td>\n",
              "      <td>0</td>\n",
              "      <td>0</td>\n",
              "      <td>1</td>\n",
              "      <td>1</td>\n",
              "      <td>0</td>\n",
              "      <td>0</td>\n",
              "      <td>1</td>\n",
              "      <td>0</td>\n",
              "      <td>0</td>\n",
              "      <td>0</td>\n",
              "      <td>0</td>\n",
              "      <td>0</td>\n",
              "      <td>0</td>\n",
              "      <td>0</td>\n",
              "      <td>0</td>\n",
              "      <td>0</td>\n",
              "      <td>0</td>\n",
              "      <td>0</td>\n",
              "      <td>0</td>\n",
              "      <td>0</td>\n",
              "      <td>0</td>\n",
              "      <td>0</td>\n",
              "      <td>0</td>\n",
              "      <td>0</td>\n",
              "      <td>1</td>\n",
              "    </tr>\n",
              "  </tbody>\n",
              "</table>\n",
              "</div>\n",
              "      <button class=\"colab-df-convert\" onclick=\"convertToInteractive('df-5051af39-9e01-4a88-b408-6e2523c95725')\"\n",
              "              title=\"Convert this dataframe to an interactive table.\"\n",
              "              style=\"display:none;\">\n",
              "        \n",
              "  <svg xmlns=\"http://www.w3.org/2000/svg\" height=\"24px\"viewBox=\"0 0 24 24\"\n",
              "       width=\"24px\">\n",
              "    <path d=\"M0 0h24v24H0V0z\" fill=\"none\"/>\n",
              "    <path d=\"M18.56 5.44l.94 2.06.94-2.06 2.06-.94-2.06-.94-.94-2.06-.94 2.06-2.06.94zm-11 1L8.5 8.5l.94-2.06 2.06-.94-2.06-.94L8.5 2.5l-.94 2.06-2.06.94zm10 10l.94 2.06.94-2.06 2.06-.94-2.06-.94-.94-2.06-.94 2.06-2.06.94z\"/><path d=\"M17.41 7.96l-1.37-1.37c-.4-.4-.92-.59-1.43-.59-.52 0-1.04.2-1.43.59L10.3 9.45l-7.72 7.72c-.78.78-.78 2.05 0 2.83L4 21.41c.39.39.9.59 1.41.59.51 0 1.02-.2 1.41-.59l7.78-7.78 2.81-2.81c.8-.78.8-2.07 0-2.86zM5.41 20L4 18.59l7.72-7.72 1.47 1.35L5.41 20z\"/>\n",
              "  </svg>\n",
              "      </button>\n",
              "      \n",
              "  <style>\n",
              "    .colab-df-container {\n",
              "      display:flex;\n",
              "      flex-wrap:wrap;\n",
              "      gap: 12px;\n",
              "    }\n",
              "\n",
              "    .colab-df-convert {\n",
              "      background-color: #E8F0FE;\n",
              "      border: none;\n",
              "      border-radius: 50%;\n",
              "      cursor: pointer;\n",
              "      display: none;\n",
              "      fill: #1967D2;\n",
              "      height: 32px;\n",
              "      padding: 0 0 0 0;\n",
              "      width: 32px;\n",
              "    }\n",
              "\n",
              "    .colab-df-convert:hover {\n",
              "      background-color: #E2EBFA;\n",
              "      box-shadow: 0px 1px 2px rgba(60, 64, 67, 0.3), 0px 1px 3px 1px rgba(60, 64, 67, 0.15);\n",
              "      fill: #174EA6;\n",
              "    }\n",
              "\n",
              "    [theme=dark] .colab-df-convert {\n",
              "      background-color: #3B4455;\n",
              "      fill: #D2E3FC;\n",
              "    }\n",
              "\n",
              "    [theme=dark] .colab-df-convert:hover {\n",
              "      background-color: #434B5C;\n",
              "      box-shadow: 0px 1px 3px 1px rgba(0, 0, 0, 0.15);\n",
              "      filter: drop-shadow(0px 1px 2px rgba(0, 0, 0, 0.3));\n",
              "      fill: #FFFFFF;\n",
              "    }\n",
              "  </style>\n",
              "\n",
              "      <script>\n",
              "        const buttonEl =\n",
              "          document.querySelector('#df-5051af39-9e01-4a88-b408-6e2523c95725 button.colab-df-convert');\n",
              "        buttonEl.style.display =\n",
              "          google.colab.kernel.accessAllowed ? 'block' : 'none';\n",
              "\n",
              "        async function convertToInteractive(key) {\n",
              "          const element = document.querySelector('#df-5051af39-9e01-4a88-b408-6e2523c95725');\n",
              "          const dataTable =\n",
              "            await google.colab.kernel.invokeFunction('convertToInteractive',\n",
              "                                                     [key], {});\n",
              "          if (!dataTable) return;\n",
              "\n",
              "          const docLinkHtml = 'Like what you see? Visit the ' +\n",
              "            '<a target=\"_blank\" href=https://colab.research.google.com/notebooks/data_table.ipynb>data table notebook</a>'\n",
              "            + ' to learn more about interactive tables.';\n",
              "          element.innerHTML = '';\n",
              "          dataTable['output_type'] = 'display_data';\n",
              "          await google.colab.output.renderOutput(dataTable, element);\n",
              "          const docLink = document.createElement('div');\n",
              "          docLink.innerHTML = docLinkHtml;\n",
              "          element.appendChild(docLink);\n",
              "        }\n",
              "      </script>\n",
              "    </div>\n",
              "  </div>\n",
              "  "
            ],
            "text/plain": [
              "            timestamp  cnt   t1  ...  dayofweek_4  dayofweek_5  dayofweek_6\n",
              "0 2015-01-04 00:00:00  182  3.0  ...            0            0            1\n",
              "1 2015-01-04 01:00:00  138  3.0  ...            0            0            1\n",
              "2 2015-01-04 02:00:00  134  2.5  ...            0            0            1\n",
              "3 2015-01-04 03:00:00   72  2.0  ...            0            0            1\n",
              "4 2015-01-04 04:00:00   47  2.0  ...            0            0            1\n",
              "\n",
              "[5 rows x 42 columns]"
            ]
          },
          "metadata": {},
          "execution_count": 18
        }
      ]
    },
    {
      "cell_type": "code",
      "metadata": {
        "execution": {
          "iopub.status.busy": "2021-10-26T05:50:27.136241Z",
          "iopub.execute_input": "2021-10-26T05:50:27.136670Z",
          "iopub.status.idle": "2021-10-26T05:50:27.141361Z",
          "shell.execute_reply.started": "2021-10-26T05:50:27.136639Z",
          "shell.execute_reply": "2021-10-26T05:50:27.140762Z"
        },
        "trusted": true,
        "id": "ub-W25qrgW9M",
        "colab": {
          "base_uri": "https://localhost:8080/"
        },
        "outputId": "fa4da517-253d-4a90-9733-5dcc09c079a0"
      },
      "source": [
        "df_out.shape"
      ],
      "execution_count": null,
      "outputs": [
        {
          "output_type": "execute_result",
          "data": {
            "text/plain": [
              "(17265, 42)"
            ]
          },
          "metadata": {},
          "execution_count": 19
        }
      ]
    },
    {
      "cell_type": "code",
      "metadata": {
        "execution": {
          "iopub.status.busy": "2021-10-26T05:52:40.587340Z",
          "iopub.execute_input": "2021-10-26T05:52:40.587648Z",
          "iopub.status.idle": "2021-10-26T05:52:40.618113Z",
          "shell.execute_reply.started": "2021-10-26T05:52:40.587617Z",
          "shell.execute_reply": "2021-10-26T05:52:40.617412Z"
        },
        "trusted": true,
        "id": "qPG_Psq9gW9M",
        "colab": {
          "base_uri": "https://localhost:8080/",
          "height": 270
        },
        "outputId": "99c3722b-745e-4bcb-ed4c-1db98120b0b5"
      },
      "source": [
        "#독립변수와 종속변수 분리하기\n",
        "\n",
        "df_y = df_out['cnt'] #자전거 이용객 수\n",
        "df_x = df_out.drop(['timestamp', 'cnt'], axis=1) # axis=1은 열 기준으로 드롭 , 0은 행 기준으로 드롭\n",
        "df_x.head()"
      ],
      "execution_count": null,
      "outputs": [
        {
          "output_type": "execute_result",
          "data": {
            "text/html": [
              "\n",
              "  <div id=\"df-08e5c4e9-271f-45df-8d61-9186aceae771\">\n",
              "    <div class=\"colab-df-container\">\n",
              "      <div>\n",
              "<style scoped>\n",
              "    .dataframe tbody tr th:only-of-type {\n",
              "        vertical-align: middle;\n",
              "    }\n",
              "\n",
              "    .dataframe tbody tr th {\n",
              "        vertical-align: top;\n",
              "    }\n",
              "\n",
              "    .dataframe thead th {\n",
              "        text-align: right;\n",
              "    }\n",
              "</style>\n",
              "<table border=\"1\" class=\"dataframe\">\n",
              "  <thead>\n",
              "    <tr style=\"text-align: right;\">\n",
              "      <th></th>\n",
              "      <th>t1</th>\n",
              "      <th>t2</th>\n",
              "      <th>hum</th>\n",
              "      <th>wind_speed</th>\n",
              "      <th>is_holiday</th>\n",
              "      <th>is_weekend</th>\n",
              "      <th>hour</th>\n",
              "      <th>weather_code_1.0</th>\n",
              "      <th>weather_code_2.0</th>\n",
              "      <th>weather_code_3.0</th>\n",
              "      <th>weather_code_4.0</th>\n",
              "      <th>weather_code_7.0</th>\n",
              "      <th>weather_code_10.0</th>\n",
              "      <th>weather_code_26.0</th>\n",
              "      <th>season_0.0</th>\n",
              "      <th>season_1.0</th>\n",
              "      <th>season_2.0</th>\n",
              "      <th>season_3.0</th>\n",
              "      <th>year_2015</th>\n",
              "      <th>year_2016</th>\n",
              "      <th>year_2017</th>\n",
              "      <th>month_1</th>\n",
              "      <th>month_2</th>\n",
              "      <th>month_3</th>\n",
              "      <th>month_4</th>\n",
              "      <th>month_5</th>\n",
              "      <th>month_6</th>\n",
              "      <th>month_7</th>\n",
              "      <th>month_8</th>\n",
              "      <th>month_9</th>\n",
              "      <th>month_10</th>\n",
              "      <th>month_11</th>\n",
              "      <th>month_12</th>\n",
              "      <th>dayofweek_0</th>\n",
              "      <th>dayofweek_1</th>\n",
              "      <th>dayofweek_2</th>\n",
              "      <th>dayofweek_3</th>\n",
              "      <th>dayofweek_4</th>\n",
              "      <th>dayofweek_5</th>\n",
              "      <th>dayofweek_6</th>\n",
              "    </tr>\n",
              "  </thead>\n",
              "  <tbody>\n",
              "    <tr>\n",
              "      <th>0</th>\n",
              "      <td>3.0</td>\n",
              "      <td>2.0</td>\n",
              "      <td>93.0</td>\n",
              "      <td>6.0</td>\n",
              "      <td>0.0</td>\n",
              "      <td>1.0</td>\n",
              "      <td>0</td>\n",
              "      <td>0</td>\n",
              "      <td>0</td>\n",
              "      <td>1</td>\n",
              "      <td>0</td>\n",
              "      <td>0</td>\n",
              "      <td>0</td>\n",
              "      <td>0</td>\n",
              "      <td>0</td>\n",
              "      <td>0</td>\n",
              "      <td>0</td>\n",
              "      <td>1</td>\n",
              "      <td>1</td>\n",
              "      <td>0</td>\n",
              "      <td>0</td>\n",
              "      <td>1</td>\n",
              "      <td>0</td>\n",
              "      <td>0</td>\n",
              "      <td>0</td>\n",
              "      <td>0</td>\n",
              "      <td>0</td>\n",
              "      <td>0</td>\n",
              "      <td>0</td>\n",
              "      <td>0</td>\n",
              "      <td>0</td>\n",
              "      <td>0</td>\n",
              "      <td>0</td>\n",
              "      <td>0</td>\n",
              "      <td>0</td>\n",
              "      <td>0</td>\n",
              "      <td>0</td>\n",
              "      <td>0</td>\n",
              "      <td>0</td>\n",
              "      <td>1</td>\n",
              "    </tr>\n",
              "    <tr>\n",
              "      <th>1</th>\n",
              "      <td>3.0</td>\n",
              "      <td>2.5</td>\n",
              "      <td>93.0</td>\n",
              "      <td>5.0</td>\n",
              "      <td>0.0</td>\n",
              "      <td>1.0</td>\n",
              "      <td>1</td>\n",
              "      <td>1</td>\n",
              "      <td>0</td>\n",
              "      <td>0</td>\n",
              "      <td>0</td>\n",
              "      <td>0</td>\n",
              "      <td>0</td>\n",
              "      <td>0</td>\n",
              "      <td>0</td>\n",
              "      <td>0</td>\n",
              "      <td>0</td>\n",
              "      <td>1</td>\n",
              "      <td>1</td>\n",
              "      <td>0</td>\n",
              "      <td>0</td>\n",
              "      <td>1</td>\n",
              "      <td>0</td>\n",
              "      <td>0</td>\n",
              "      <td>0</td>\n",
              "      <td>0</td>\n",
              "      <td>0</td>\n",
              "      <td>0</td>\n",
              "      <td>0</td>\n",
              "      <td>0</td>\n",
              "      <td>0</td>\n",
              "      <td>0</td>\n",
              "      <td>0</td>\n",
              "      <td>0</td>\n",
              "      <td>0</td>\n",
              "      <td>0</td>\n",
              "      <td>0</td>\n",
              "      <td>0</td>\n",
              "      <td>0</td>\n",
              "      <td>1</td>\n",
              "    </tr>\n",
              "    <tr>\n",
              "      <th>2</th>\n",
              "      <td>2.5</td>\n",
              "      <td>2.5</td>\n",
              "      <td>96.5</td>\n",
              "      <td>0.0</td>\n",
              "      <td>0.0</td>\n",
              "      <td>1.0</td>\n",
              "      <td>2</td>\n",
              "      <td>1</td>\n",
              "      <td>0</td>\n",
              "      <td>0</td>\n",
              "      <td>0</td>\n",
              "      <td>0</td>\n",
              "      <td>0</td>\n",
              "      <td>0</td>\n",
              "      <td>0</td>\n",
              "      <td>0</td>\n",
              "      <td>0</td>\n",
              "      <td>1</td>\n",
              "      <td>1</td>\n",
              "      <td>0</td>\n",
              "      <td>0</td>\n",
              "      <td>1</td>\n",
              "      <td>0</td>\n",
              "      <td>0</td>\n",
              "      <td>0</td>\n",
              "      <td>0</td>\n",
              "      <td>0</td>\n",
              "      <td>0</td>\n",
              "      <td>0</td>\n",
              "      <td>0</td>\n",
              "      <td>0</td>\n",
              "      <td>0</td>\n",
              "      <td>0</td>\n",
              "      <td>0</td>\n",
              "      <td>0</td>\n",
              "      <td>0</td>\n",
              "      <td>0</td>\n",
              "      <td>0</td>\n",
              "      <td>0</td>\n",
              "      <td>1</td>\n",
              "    </tr>\n",
              "    <tr>\n",
              "      <th>3</th>\n",
              "      <td>2.0</td>\n",
              "      <td>2.0</td>\n",
              "      <td>100.0</td>\n",
              "      <td>0.0</td>\n",
              "      <td>0.0</td>\n",
              "      <td>1.0</td>\n",
              "      <td>3</td>\n",
              "      <td>1</td>\n",
              "      <td>0</td>\n",
              "      <td>0</td>\n",
              "      <td>0</td>\n",
              "      <td>0</td>\n",
              "      <td>0</td>\n",
              "      <td>0</td>\n",
              "      <td>0</td>\n",
              "      <td>0</td>\n",
              "      <td>0</td>\n",
              "      <td>1</td>\n",
              "      <td>1</td>\n",
              "      <td>0</td>\n",
              "      <td>0</td>\n",
              "      <td>1</td>\n",
              "      <td>0</td>\n",
              "      <td>0</td>\n",
              "      <td>0</td>\n",
              "      <td>0</td>\n",
              "      <td>0</td>\n",
              "      <td>0</td>\n",
              "      <td>0</td>\n",
              "      <td>0</td>\n",
              "      <td>0</td>\n",
              "      <td>0</td>\n",
              "      <td>0</td>\n",
              "      <td>0</td>\n",
              "      <td>0</td>\n",
              "      <td>0</td>\n",
              "      <td>0</td>\n",
              "      <td>0</td>\n",
              "      <td>0</td>\n",
              "      <td>1</td>\n",
              "    </tr>\n",
              "    <tr>\n",
              "      <th>4</th>\n",
              "      <td>2.0</td>\n",
              "      <td>0.0</td>\n",
              "      <td>93.0</td>\n",
              "      <td>6.5</td>\n",
              "      <td>0.0</td>\n",
              "      <td>1.0</td>\n",
              "      <td>4</td>\n",
              "      <td>1</td>\n",
              "      <td>0</td>\n",
              "      <td>0</td>\n",
              "      <td>0</td>\n",
              "      <td>0</td>\n",
              "      <td>0</td>\n",
              "      <td>0</td>\n",
              "      <td>0</td>\n",
              "      <td>0</td>\n",
              "      <td>0</td>\n",
              "      <td>1</td>\n",
              "      <td>1</td>\n",
              "      <td>0</td>\n",
              "      <td>0</td>\n",
              "      <td>1</td>\n",
              "      <td>0</td>\n",
              "      <td>0</td>\n",
              "      <td>0</td>\n",
              "      <td>0</td>\n",
              "      <td>0</td>\n",
              "      <td>0</td>\n",
              "      <td>0</td>\n",
              "      <td>0</td>\n",
              "      <td>0</td>\n",
              "      <td>0</td>\n",
              "      <td>0</td>\n",
              "      <td>0</td>\n",
              "      <td>0</td>\n",
              "      <td>0</td>\n",
              "      <td>0</td>\n",
              "      <td>0</td>\n",
              "      <td>0</td>\n",
              "      <td>1</td>\n",
              "    </tr>\n",
              "  </tbody>\n",
              "</table>\n",
              "</div>\n",
              "      <button class=\"colab-df-convert\" onclick=\"convertToInteractive('df-08e5c4e9-271f-45df-8d61-9186aceae771')\"\n",
              "              title=\"Convert this dataframe to an interactive table.\"\n",
              "              style=\"display:none;\">\n",
              "        \n",
              "  <svg xmlns=\"http://www.w3.org/2000/svg\" height=\"24px\"viewBox=\"0 0 24 24\"\n",
              "       width=\"24px\">\n",
              "    <path d=\"M0 0h24v24H0V0z\" fill=\"none\"/>\n",
              "    <path d=\"M18.56 5.44l.94 2.06.94-2.06 2.06-.94-2.06-.94-.94-2.06-.94 2.06-2.06.94zm-11 1L8.5 8.5l.94-2.06 2.06-.94-2.06-.94L8.5 2.5l-.94 2.06-2.06.94zm10 10l.94 2.06.94-2.06 2.06-.94-2.06-.94-.94-2.06-.94 2.06-2.06.94z\"/><path d=\"M17.41 7.96l-1.37-1.37c-.4-.4-.92-.59-1.43-.59-.52 0-1.04.2-1.43.59L10.3 9.45l-7.72 7.72c-.78.78-.78 2.05 0 2.83L4 21.41c.39.39.9.59 1.41.59.51 0 1.02-.2 1.41-.59l7.78-7.78 2.81-2.81c.8-.78.8-2.07 0-2.86zM5.41 20L4 18.59l7.72-7.72 1.47 1.35L5.41 20z\"/>\n",
              "  </svg>\n",
              "      </button>\n",
              "      \n",
              "  <style>\n",
              "    .colab-df-container {\n",
              "      display:flex;\n",
              "      flex-wrap:wrap;\n",
              "      gap: 12px;\n",
              "    }\n",
              "\n",
              "    .colab-df-convert {\n",
              "      background-color: #E8F0FE;\n",
              "      border: none;\n",
              "      border-radius: 50%;\n",
              "      cursor: pointer;\n",
              "      display: none;\n",
              "      fill: #1967D2;\n",
              "      height: 32px;\n",
              "      padding: 0 0 0 0;\n",
              "      width: 32px;\n",
              "    }\n",
              "\n",
              "    .colab-df-convert:hover {\n",
              "      background-color: #E2EBFA;\n",
              "      box-shadow: 0px 1px 2px rgba(60, 64, 67, 0.3), 0px 1px 3px 1px rgba(60, 64, 67, 0.15);\n",
              "      fill: #174EA6;\n",
              "    }\n",
              "\n",
              "    [theme=dark] .colab-df-convert {\n",
              "      background-color: #3B4455;\n",
              "      fill: #D2E3FC;\n",
              "    }\n",
              "\n",
              "    [theme=dark] .colab-df-convert:hover {\n",
              "      background-color: #434B5C;\n",
              "      box-shadow: 0px 1px 3px 1px rgba(0, 0, 0, 0.15);\n",
              "      filter: drop-shadow(0px 1px 2px rgba(0, 0, 0, 0.3));\n",
              "      fill: #FFFFFF;\n",
              "    }\n",
              "  </style>\n",
              "\n",
              "      <script>\n",
              "        const buttonEl =\n",
              "          document.querySelector('#df-08e5c4e9-271f-45df-8d61-9186aceae771 button.colab-df-convert');\n",
              "        buttonEl.style.display =\n",
              "          google.colab.kernel.accessAllowed ? 'block' : 'none';\n",
              "\n",
              "        async function convertToInteractive(key) {\n",
              "          const element = document.querySelector('#df-08e5c4e9-271f-45df-8d61-9186aceae771');\n",
              "          const dataTable =\n",
              "            await google.colab.kernel.invokeFunction('convertToInteractive',\n",
              "                                                     [key], {});\n",
              "          if (!dataTable) return;\n",
              "\n",
              "          const docLinkHtml = 'Like what you see? Visit the ' +\n",
              "            '<a target=\"_blank\" href=https://colab.research.google.com/notebooks/data_table.ipynb>data table notebook</a>'\n",
              "            + ' to learn more about interactive tables.';\n",
              "          element.innerHTML = '';\n",
              "          dataTable['output_type'] = 'display_data';\n",
              "          await google.colab.output.renderOutput(dataTable, element);\n",
              "          const docLink = document.createElement('div');\n",
              "          docLink.innerHTML = docLinkHtml;\n",
              "          element.appendChild(docLink);\n",
              "        }\n",
              "      </script>\n",
              "    </div>\n",
              "  </div>\n",
              "  "
            ],
            "text/plain": [
              "    t1   t2    hum  ...  dayofweek_4  dayofweek_5  dayofweek_6\n",
              "0  3.0  2.0   93.0  ...            0            0            1\n",
              "1  3.0  2.5   93.0  ...            0            0            1\n",
              "2  2.5  2.5   96.5  ...            0            0            1\n",
              "3  2.0  2.0  100.0  ...            0            0            1\n",
              "4  2.0  0.0   93.0  ...            0            0            1\n",
              "\n",
              "[5 rows x 40 columns]"
            ]
          },
          "metadata": {},
          "execution_count": 20
        }
      ]
    },
    {
      "cell_type": "code",
      "metadata": {
        "execution": {
          "iopub.status.busy": "2021-10-26T05:52:55.409914Z",
          "iopub.execute_input": "2021-10-26T05:52:55.410495Z",
          "iopub.status.idle": "2021-10-26T05:52:55.417975Z",
          "shell.execute_reply.started": "2021-10-26T05:52:55.410458Z",
          "shell.execute_reply": "2021-10-26T05:52:55.416931Z"
        },
        "trusted": true,
        "id": "xW4VWsrMgW9M",
        "colab": {
          "base_uri": "https://localhost:8080/"
        },
        "outputId": "78363453-06e1-47bb-e893-433e54376d5b"
      },
      "source": [
        "df_y.head()"
      ],
      "execution_count": null,
      "outputs": [
        {
          "output_type": "execute_result",
          "data": {
            "text/plain": [
              "0    182\n",
              "1    138\n",
              "2    134\n",
              "3     72\n",
              "4     47\n",
              "Name: cnt, dtype: int64"
            ]
          },
          "metadata": {},
          "execution_count": 21
        }
      ]
    },
    {
      "cell_type": "markdown",
      "source": [
        "#### 딥러닝 모형"
      ],
      "metadata": {
        "id": "C0j_tCs4e9-k"
      }
    },
    {
      "cell_type": "code",
      "metadata": {
        "execution": {
          "iopub.status.busy": "2021-10-26T05:55:31.859859Z",
          "iopub.execute_input": "2021-10-26T05:55:31.860230Z",
          "iopub.status.idle": "2021-10-26T05:55:31.957206Z",
          "shell.execute_reply.started": "2021-10-26T05:55:31.860193Z",
          "shell.execute_reply": "2021-10-26T05:55:31.956236Z"
        },
        "trusted": true,
        "id": "b9lg_QKngW9M"
      },
      "source": [
        "# 훈련용, 테스트용 데이터 분리\n",
        "\n",
        "from sklearn.model_selection import train_test_split\n",
        "x_train, x_test, y_train, y_test = train_test_split(df_x, df_y, random_state=66, test_size=0.3, shuffle=False)\n",
        "# random_state는 seed 넘버처럼 고정 시키는 것, test_size 3:7로 테스트:훈련, 시계열 데이터므로 shuffle은 작동X\n"
      ],
      "execution_count": null,
      "outputs": []
    },
    {
      "cell_type": "code",
      "metadata": {
        "execution": {
          "iopub.status.busy": "2021-10-26T05:57:09.647796Z",
          "iopub.execute_input": "2021-10-26T05:57:09.648983Z",
          "iopub.status.idle": "2021-10-26T05:57:09.656071Z",
          "shell.execute_reply.started": "2021-10-26T05:57:09.648919Z",
          "shell.execute_reply": "2021-10-26T05:57:09.655478Z"
        },
        "trusted": true,
        "id": "X-IjIpC-gW9M",
        "colab": {
          "base_uri": "https://localhost:8080/"
        },
        "outputId": "a45564f0-f23c-4fb8-8e73-3b686c4cf585"
      },
      "source": [
        "print('x_train의 구조는:', x_train.shape)\n",
        "print('y_train의 구조는:', y_train.shape)\n",
        "print('x_test의 구조는:', x_test.shape)\n",
        "print('x_test의 구조는:', y_test.shape)"
      ],
      "execution_count": null,
      "outputs": [
        {
          "output_type": "stream",
          "name": "stdout",
          "text": [
            "x_train의 구조는: (12085, 40)\n",
            "y_train의 구조는: (12085,)\n",
            "x_test의 구조는: (5180, 40)\n",
            "x_test의 구조는: (5180,)\n"
          ]
        }
      ]
    },
    {
      "cell_type": "code",
      "metadata": {
        "execution": {
          "iopub.status.busy": "2021-10-26T05:58:33.493669Z",
          "iopub.execute_input": "2021-10-26T05:58:33.494006Z",
          "iopub.status.idle": "2021-10-26T05:58:33.499656Z",
          "shell.execute_reply.started": "2021-10-26T05:58:33.493975Z",
          "shell.execute_reply": "2021-10-26T05:58:33.498422Z"
        },
        "trusted": true,
        "id": "YN_8qWhsgW9N"
      },
      "source": [
        "import keras\n",
        "from keras.models import Sequential\n",
        "from keras.layers import Dense\n",
        "from keras.callbacks import EarlyStopping # overfitting 되면 멈출 수 있도록"
      ],
      "execution_count": null,
      "outputs": []
    },
    {
      "cell_type": "code",
      "metadata": {
        "execution": {
          "iopub.status.busy": "2021-10-26T06:05:36.967680Z",
          "iopub.execute_input": "2021-10-26T06:05:36.968007Z",
          "iopub.status.idle": "2021-10-26T06:05:37.011387Z",
          "shell.execute_reply.started": "2021-10-26T06:05:36.967975Z",
          "shell.execute_reply": "2021-10-26T06:05:37.010455Z"
        },
        "trusted": true,
        "id": "G3obKCOwgW9N"
      },
      "source": [
        "# 층 만들어 주기\n",
        "\n",
        "model = Sequential()\n",
        "model.add(Dense(units = 160, activation = 'relu', input_dim = 40))\n",
        "model.add(Dense(units = 60, activation = 'relu'))\n",
        "model.add(Dense(units = 20, activation = 'relu'))\n",
        "model.add(Dense(units = 1, activation = 'linear'))\n"
      ],
      "execution_count": null,
      "outputs": []
    },
    {
      "cell_type": "code",
      "metadata": {
        "execution": {
          "iopub.status.busy": "2021-10-26T06:05:40.580906Z",
          "iopub.execute_input": "2021-10-26T06:05:40.581224Z",
          "iopub.status.idle": "2021-10-26T06:05:40.590360Z",
          "shell.execute_reply.started": "2021-10-26T06:05:40.581187Z",
          "shell.execute_reply": "2021-10-26T06:05:40.589365Z"
        },
        "trusted": true,
        "id": "9Gh4wNiNgW9N",
        "colab": {
          "base_uri": "https://localhost:8080/"
        },
        "outputId": "ab513cff-bbd8-40c5-b35f-13cd432c7a29"
      },
      "source": [
        "model.summary()"
      ],
      "execution_count": null,
      "outputs": [
        {
          "output_type": "stream",
          "name": "stdout",
          "text": [
            "Model: \"sequential\"\n",
            "_________________________________________________________________\n",
            " Layer (type)                Output Shape              Param #   \n",
            "=================================================================\n",
            " dense (Dense)               (None, 160)               6560      \n",
            "                                                                 \n",
            " dense_1 (Dense)             (None, 60)                9660      \n",
            "                                                                 \n",
            " dense_2 (Dense)             (None, 20)                1220      \n",
            "                                                                 \n",
            " dense_3 (Dense)             (None, 1)                 21        \n",
            "                                                                 \n",
            "=================================================================\n",
            "Total params: 17,461\n",
            "Trainable params: 17,461\n",
            "Non-trainable params: 0\n",
            "_________________________________________________________________\n"
          ]
        }
      ]
    },
    {
      "cell_type": "code",
      "metadata": {
        "execution": {
          "iopub.status.busy": "2021-10-26T06:05:43.565399Z",
          "iopub.execute_input": "2021-10-26T06:05:43.566569Z",
          "iopub.status.idle": "2021-10-26T06:24:27.062302Z",
          "shell.execute_reply.started": "2021-10-26T06:05:43.566506Z",
          "shell.execute_reply": "2021-10-26T06:24:27.061550Z"
        },
        "trusted": true,
        "id": "EmBYBzAigW9N",
        "colab": {
          "base_uri": "https://localhost:8080/"
        },
        "outputId": "b1f8c74a-3cad-4365-93b6-6ec40f367dc6"
      },
      "source": [
        "model.compile(loss='mae', optimizer='adam', metrics=['mae'])\n",
        "early_stopping = EarlyStopping(monitor='loss', patience = 5, mode='min') # loss가 줄어드는 방향으로 최적화, 과적합 5번까지 허용\n",
        "history = model.fit(x_train, y_train, epochs=50, batch_size=1, validation_split=0.1, callbacks=[early_stopping]) \n",
        "# 훈련을 전체 데이터의 50번정도 반복(epochs), 훈련 데이터 단위 (batch_size), 검증용 데이터 10% 분리 (validation_split) - overfitting 방지, 과적합 되기전에 early_stopping\n",
        "# 그래프로 확인하기위해 history라는 변수로 할당"
      ],
      "execution_count": null,
      "outputs": [
        {
          "output_type": "stream",
          "name": "stdout",
          "text": [
            "Epoch 1/50\n",
            "10876/10876 [==============================] - 23s 2ms/step - loss: 567.1584 - mae: 567.1584 - val_loss: 588.7458 - val_mae: 588.7458\n",
            "Epoch 2/50\n",
            "10876/10876 [==============================] - 22s 2ms/step - loss: 473.3972 - mae: 473.3972 - val_loss: 502.6514 - val_mae: 502.6514\n",
            "Epoch 3/50\n",
            "10876/10876 [==============================] - 26s 2ms/step - loss: 421.9770 - mae: 421.9770 - val_loss: 453.0085 - val_mae: 453.0085\n",
            "Epoch 4/50\n",
            "10876/10876 [==============================] - 27s 2ms/step - loss: 395.9665 - mae: 395.9665 - val_loss: 489.4613 - val_mae: 489.4613\n",
            "Epoch 5/50\n",
            "10876/10876 [==============================] - 27s 2ms/step - loss: 369.4457 - mae: 369.4457 - val_loss: 424.3087 - val_mae: 424.3087\n",
            "Epoch 6/50\n",
            "10876/10876 [==============================] - 23s 2ms/step - loss: 345.8047 - mae: 345.8047 - val_loss: 380.5783 - val_mae: 380.5783\n",
            "Epoch 7/50\n",
            "10876/10876 [==============================] - 23s 2ms/step - loss: 330.6849 - mae: 330.6849 - val_loss: 359.2717 - val_mae: 359.2717\n",
            "Epoch 8/50\n",
            "10876/10876 [==============================] - 40s 4ms/step - loss: 320.4559 - mae: 320.4559 - val_loss: 375.9821 - val_mae: 375.9821\n",
            "Epoch 9/50\n",
            "10876/10876 [==============================] - 21s 2ms/step - loss: 311.8301 - mae: 311.8301 - val_loss: 342.9412 - val_mae: 342.9412\n",
            "Epoch 10/50\n",
            "10876/10876 [==============================] - 21s 2ms/step - loss: 304.6358 - mae: 304.6358 - val_loss: 378.9669 - val_mae: 378.9669\n",
            "Epoch 11/50\n",
            "10876/10876 [==============================] - 20s 2ms/step - loss: 299.3309 - mae: 299.3309 - val_loss: 341.8741 - val_mae: 341.8741\n",
            "Epoch 12/50\n",
            "10876/10876 [==============================] - 20s 2ms/step - loss: 294.7883 - mae: 294.7883 - val_loss: 320.2850 - val_mae: 320.2850\n",
            "Epoch 13/50\n",
            "10876/10876 [==============================] - 21s 2ms/step - loss: 291.3408 - mae: 291.3408 - val_loss: 315.3120 - val_mae: 315.3120\n",
            "Epoch 14/50\n",
            "10876/10876 [==============================] - 22s 2ms/step - loss: 287.9930 - mae: 287.9930 - val_loss: 403.8812 - val_mae: 403.8812\n",
            "Epoch 15/50\n",
            "10876/10876 [==============================] - 21s 2ms/step - loss: 280.8983 - mae: 280.8983 - val_loss: 299.2680 - val_mae: 299.2680\n",
            "Epoch 16/50\n",
            "10876/10876 [==============================] - 21s 2ms/step - loss: 279.5918 - mae: 279.5918 - val_loss: 308.6675 - val_mae: 308.6675\n",
            "Epoch 17/50\n",
            "10876/10876 [==============================] - 21s 2ms/step - loss: 274.0044 - mae: 274.0044 - val_loss: 350.1721 - val_mae: 350.1721\n",
            "Epoch 18/50\n",
            "10876/10876 [==============================] - 21s 2ms/step - loss: 271.9036 - mae: 271.9036 - val_loss: 308.9429 - val_mae: 308.9429\n",
            "Epoch 19/50\n",
            "10876/10876 [==============================] - 22s 2ms/step - loss: 268.8983 - mae: 268.8983 - val_loss: 306.1725 - val_mae: 306.1725\n",
            "Epoch 20/50\n",
            "10876/10876 [==============================] - 21s 2ms/step - loss: 265.9811 - mae: 265.9811 - val_loss: 290.8143 - val_mae: 290.8143\n",
            "Epoch 21/50\n",
            "10876/10876 [==============================] - 21s 2ms/step - loss: 260.8401 - mae: 260.8401 - val_loss: 271.2596 - val_mae: 271.2596\n",
            "Epoch 22/50\n",
            "10876/10876 [==============================] - 21s 2ms/step - loss: 262.4798 - mae: 262.4798 - val_loss: 294.0609 - val_mae: 294.0609\n",
            "Epoch 23/50\n",
            "10876/10876 [==============================] - 21s 2ms/step - loss: 256.1316 - mae: 256.1316 - val_loss: 299.3390 - val_mae: 299.3390\n",
            "Epoch 24/50\n",
            "10876/10876 [==============================] - 21s 2ms/step - loss: 256.1509 - mae: 256.1509 - val_loss: 299.2361 - val_mae: 299.2361\n",
            "Epoch 25/50\n",
            "10876/10876 [==============================] - 21s 2ms/step - loss: 251.4665 - mae: 251.4665 - val_loss: 290.9207 - val_mae: 290.9207\n",
            "Epoch 26/50\n",
            "10876/10876 [==============================] - 21s 2ms/step - loss: 250.2928 - mae: 250.2928 - val_loss: 313.0141 - val_mae: 313.0141\n",
            "Epoch 27/50\n",
            "10876/10876 [==============================] - 21s 2ms/step - loss: 249.3272 - mae: 249.3272 - val_loss: 292.0676 - val_mae: 292.0676\n",
            "Epoch 28/50\n",
            "10876/10876 [==============================] - 20s 2ms/step - loss: 243.5220 - mae: 243.5220 - val_loss: 315.3158 - val_mae: 315.3158\n",
            "Epoch 29/50\n",
            "10876/10876 [==============================] - 21s 2ms/step - loss: 244.9639 - mae: 244.9639 - val_loss: 280.0569 - val_mae: 280.0569\n",
            "Epoch 30/50\n",
            "10876/10876 [==============================] - 21s 2ms/step - loss: 240.8305 - mae: 240.8305 - val_loss: 341.6735 - val_mae: 341.6735\n",
            "Epoch 31/50\n",
            "10876/10876 [==============================] - 21s 2ms/step - loss: 240.1895 - mae: 240.1895 - val_loss: 294.9969 - val_mae: 294.9969\n",
            "Epoch 32/50\n",
            "10876/10876 [==============================] - 21s 2ms/step - loss: 239.4911 - mae: 239.4911 - val_loss: 327.8623 - val_mae: 327.8623\n",
            "Epoch 33/50\n",
            "10876/10876 [==============================] - 22s 2ms/step - loss: 238.4195 - mae: 238.4195 - val_loss: 271.2404 - val_mae: 271.2404\n",
            "Epoch 34/50\n",
            "10876/10876 [==============================] - 21s 2ms/step - loss: 235.0913 - mae: 235.0913 - val_loss: 280.8994 - val_mae: 280.8994\n",
            "Epoch 35/50\n",
            "10876/10876 [==============================] - 21s 2ms/step - loss: 233.5106 - mae: 233.5106 - val_loss: 245.9383 - val_mae: 245.9383\n",
            "Epoch 36/50\n",
            "10876/10876 [==============================] - 22s 2ms/step - loss: 230.7732 - mae: 230.7732 - val_loss: 253.9727 - val_mae: 253.9727\n",
            "Epoch 37/50\n",
            "10876/10876 [==============================] - 22s 2ms/step - loss: 229.8036 - mae: 229.8036 - val_loss: 313.7955 - val_mae: 313.7955\n",
            "Epoch 38/50\n",
            "10876/10876 [==============================] - 23s 2ms/step - loss: 228.3780 - mae: 228.3780 - val_loss: 267.2128 - val_mae: 267.2128\n",
            "Epoch 39/50\n",
            "10876/10876 [==============================] - 22s 2ms/step - loss: 228.2433 - mae: 228.2433 - val_loss: 292.2756 - val_mae: 292.2756\n",
            "Epoch 40/50\n",
            "10876/10876 [==============================] - 22s 2ms/step - loss: 221.1654 - mae: 221.1654 - val_loss: 241.1456 - val_mae: 241.1456\n",
            "Epoch 41/50\n",
            "10876/10876 [==============================] - 21s 2ms/step - loss: 220.8581 - mae: 220.8581 - val_loss: 324.4619 - val_mae: 324.4619\n",
            "Epoch 42/50\n",
            "10876/10876 [==============================] - 21s 2ms/step - loss: 219.7069 - mae: 219.7069 - val_loss: 262.9195 - val_mae: 262.9195\n",
            "Epoch 43/50\n",
            "10876/10876 [==============================] - 21s 2ms/step - loss: 218.1524 - mae: 218.1524 - val_loss: 284.7472 - val_mae: 284.7472\n",
            "Epoch 44/50\n",
            "10876/10876 [==============================] - 21s 2ms/step - loss: 217.1620 - mae: 217.1620 - val_loss: 261.2286 - val_mae: 261.2286\n",
            "Epoch 45/50\n",
            "10876/10876 [==============================] - 21s 2ms/step - loss: 213.0130 - mae: 213.0130 - val_loss: 270.2123 - val_mae: 270.2123\n",
            "Epoch 46/50\n",
            "10876/10876 [==============================] - 21s 2ms/step - loss: 213.3461 - mae: 213.3461 - val_loss: 262.1437 - val_mae: 262.1437\n",
            "Epoch 47/50\n",
            "10876/10876 [==============================] - 21s 2ms/step - loss: 209.7527 - mae: 209.7527 - val_loss: 254.1060 - val_mae: 254.1060\n",
            "Epoch 48/50\n",
            "10876/10876 [==============================] - 21s 2ms/step - loss: 208.2722 - mae: 208.2722 - val_loss: 240.4918 - val_mae: 240.4918\n",
            "Epoch 49/50\n",
            "10876/10876 [==============================] - 20s 2ms/step - loss: 204.8940 - mae: 204.8940 - val_loss: 250.1932 - val_mae: 250.1932\n",
            "Epoch 50/50\n",
            "10876/10876 [==============================] - 21s 2ms/step - loss: 204.2409 - mae: 204.2409 - val_loss: 221.5254 - val_mae: 221.5254\n"
          ]
        }
      ]
    },
    {
      "cell_type": "code",
      "source": [
        "plt.plot(history.history['val_loss'])\n",
        "plt.plot(history.history['loss'])\n",
        "plt.title('loss')\n",
        "plt.xlabel('Epochs')\n",
        "plt.ylabel('loss')\n",
        "plt.legend(['val.loss', 'loss'])\n",
        "plt.show()"
      ],
      "metadata": {
        "colab": {
          "base_uri": "https://localhost:8080/",
          "height": 295
        },
        "id": "oas1cydkjhO9",
        "outputId": "a4eec8f6-d288-4e01-8142-7605758248dd"
      },
      "execution_count": null,
      "outputs": [
        {
          "output_type": "display_data",
          "data": {
            "image/png": "[encoded data removed]",
            "text/plain": [
              "<Figure size 432x288 with 1 Axes>"
            ]
          },
          "metadata": {
            "needs_background": "light"
          }
        }
      ]
    },
    {
      "cell_type": "code",
      "source": [
        "y_predict = model.predict(x_test)"
      ],
      "metadata": {
        "id": "h0af8qyulrjw"
      },
      "execution_count": null,
      "outputs": []
    },
    {
      "cell_type": "code",
      "source": [
        "from sklearn.metrics import mean_squared_error\n",
        "\n",
        "def RMSE(y_test, y_predict):\n",
        "  return np.sqrt(mean_squared_error(y_test, y_predict))\n",
        "  \n",
        "print('RMSE', RMSE(y_test, y_predict))"
      ],
      "metadata": {
        "colab": {
          "base_uri": "https://localhost:8080/"
        },
        "id": "YIzrJmAulIFV",
        "outputId": "466119db-074e-442f-8d5d-8b7a5acb6e58"
      },
      "execution_count": null,
      "outputs": [
        {
          "output_type": "stream",
          "name": "stdout",
          "text": [
            "RMSE 477.4148027003259\n"
          ]
        }
      ]
    },
    {
      "cell_type": "markdown",
      "source": [
        "#### 머신러닝 모형\n",
        "1.   랜덤포레스트\n",
        "2.   부스팅 계열 모형 (순차적으로 학습) : XGBoost, LightGBM\n",
        "\n",
        "- 모형평가는 RMSE(root씌운 MSE)\n"
      ],
      "metadata": {
        "id": "uKhAKsyyjDfo"
      }
    },
    {
      "cell_type": "markdown",
      "source": [
        "##### 1. 랜덤포레스트"
      ],
      "metadata": {
        "id": "VZk0HHdhlBl_"
      }
    },
    {
      "cell_type": "code",
      "metadata": {
        "id": "adjz0q3dtgbx",
        "colab": {
          "base_uri": "https://localhost:8080/"
        },
        "outputId": "78551131-aacf-4801-c773-58026af7bb4f"
      },
      "source": [
        "from sklearn.ensemble import RandomForestRegressor\n",
        "\n",
        "rf = RandomForestRegressor(n_estimators=100, random_state=16)\n",
        "rf.fit(x_train, y_train)\n",
        "rf_result = rf.predict(x_test)\n",
        "\n",
        "print('RMSE', RMSE(y_test, rf_result))"
      ],
      "execution_count": null,
      "outputs": [
        {
          "output_type": "stream",
          "name": "stdout",
          "text": [
            "RMSE 280.4306428360386\n"
          ]
        }
      ]
    },
    {
      "cell_type": "markdown",
      "source": [
        "##### 2. 부스팅 계열"
      ],
      "metadata": {
        "id": "JKCIv32ejMco"
      }
    },
    {
      "cell_type": "code",
      "metadata": {
        "id": "XH9RKfCRtgxy",
        "colab": {
          "base_uri": "https://localhost:8080/"
        },
        "outputId": "ccf5decd-bd1d-401c-9aea-3f5338c895a1"
      },
      "source": [
        "#XGBoost 모형\n",
        "\n",
        "from xgboost import XGBRegressor\n",
        "\n",
        "xgb = XGBRegressor(n_estimators=100, random_state=16)\n",
        "xgb.fit(x_train, y_train)\n",
        "xgb_result = xgb.predict(x_test)\n",
        "\n",
        "print('RMSE', RMSE(y_test, xgb_result))"
      ],
      "execution_count": null,
      "outputs": [
        {
          "output_type": "stream",
          "name": "stdout",
          "text": [
            "[04:35:34] WARNING: /workspace/src/objective/regression_obj.cu:152: reg:linear is now deprecated in favor of reg:squarederror.\n",
            "RMSE 417.77480841379963\n"
          ]
        }
      ]
    },
    {
      "cell_type": "code",
      "metadata": {
        "id": "L-6gBsBwtg0f",
        "colab": {
          "base_uri": "https://localhost:8080/"
        },
        "outputId": "0db661d8-fa15-4f6e-b52e-a08a8587ce24"
      },
      "source": [
        "#LightGBM 모형\n",
        "\n",
        "from lightgbm import LGBMRegressor\n",
        "\n",
        "lgb = LGBMRegressor(n_estimators=100, random_state=16)\n",
        "lgb.fit(x_train, y_train)\n",
        "lgb_result= lgb.predict(x_test)\n",
        "\n",
        "print('RMSE', RMSE(y_test, lgb_result))"
      ],
      "execution_count": null,
      "outputs": [
        {
          "output_type": "stream",
          "name": "stdout",
          "text": [
            "RMSE 289.45696079593114\n"
          ]
        }
      ]
    },
    {
      "cell_type": "markdown",
      "source": [
        "#### 모형비교"
      ],
      "metadata": {
        "id": "1iHXKH4lr50z"
      }
    },
    {
      "cell_type": "code",
      "metadata": {
        "id": "JjYVmMpDtg2w"
      },
      "source": [
        "lgb = pd.DataFrame(lgb_result)\n",
        "xgb = pd.DataFrame(xgb_result)\n",
        "rf = pd.DataFrame(rf_result)\n",
        "dnn = pd.DataFrame(y_predict)\n",
        "\n",
        "compare = pd.DataFrame(y_test).reset_index(drop=True)"
      ],
      "execution_count": null,
      "outputs": []
    },
    {
      "cell_type": "code",
      "metadata": {
        "id": "zDsTX4lltg43",
        "colab": {
          "base_uri": "https://localhost:8080/",
          "height": 206
        },
        "outputId": "f1fe4a70-a7d7-4bd9-b1b7-27418fa32f4a"
      },
      "source": [
        "compare.head()"
      ],
      "execution_count": null,
      "outputs": [
        {
          "output_type": "execute_result",
          "data": {
            "text/html": [
              "\n",
              "  <div id=\"df-23acbf7c-3ca1-44be-96b2-339c5db4dd24\">\n",
              "    <div class=\"colab-df-container\">\n",
              "      <div>\n",
              "<style scoped>\n",
              "    .dataframe tbody tr th:only-of-type {\n",
              "        vertical-align: middle;\n",
              "    }\n",
              "\n",
              "    .dataframe tbody tr th {\n",
              "        vertical-align: top;\n",
              "    }\n",
              "\n",
              "    .dataframe thead th {\n",
              "        text-align: right;\n",
              "    }\n",
              "</style>\n",
              "<table border=\"1\" class=\"dataframe\">\n",
              "  <thead>\n",
              "    <tr style=\"text-align: right;\">\n",
              "      <th></th>\n",
              "      <th>cnt</th>\n",
              "    </tr>\n",
              "  </thead>\n",
              "  <tbody>\n",
              "    <tr>\n",
              "      <th>0</th>\n",
              "      <td>1885</td>\n",
              "    </tr>\n",
              "    <tr>\n",
              "      <th>1</th>\n",
              "      <td>2175</td>\n",
              "    </tr>\n",
              "    <tr>\n",
              "      <th>2</th>\n",
              "      <td>2485</td>\n",
              "    </tr>\n",
              "    <tr>\n",
              "      <th>3</th>\n",
              "      <td>2882</td>\n",
              "    </tr>\n",
              "    <tr>\n",
              "      <th>4</th>\n",
              "      <td>2965</td>\n",
              "    </tr>\n",
              "  </tbody>\n",
              "</table>\n",
              "</div>\n",
              "      <button class=\"colab-df-convert\" onclick=\"convertToInteractive('df-23acbf7c-3ca1-44be-96b2-339c5db4dd24')\"\n",
              "              title=\"Convert this dataframe to an interactive table.\"\n",
              "              style=\"display:none;\">\n",
              "        \n",
              "  <svg xmlns=\"http://www.w3.org/2000/svg\" height=\"24px\"viewBox=\"0 0 24 24\"\n",
              "       width=\"24px\">\n",
              "    <path d=\"M0 0h24v24H0V0z\" fill=\"none\"/>\n",
              "    <path d=\"M18.56 5.44l.94 2.06.94-2.06 2.06-.94-2.06-.94-.94-2.06-.94 2.06-2.06.94zm-11 1L8.5 8.5l.94-2.06 2.06-.94-2.06-.94L8.5 2.5l-.94 2.06-2.06.94zm10 10l.94 2.06.94-2.06 2.06-.94-2.06-.94-.94-2.06-.94 2.06-2.06.94z\"/><path d=\"M17.41 7.96l-1.37-1.37c-.4-.4-.92-.59-1.43-.59-.52 0-1.04.2-1.43.59L10.3 9.45l-7.72 7.72c-.78.78-.78 2.05 0 2.83L4 21.41c.39.39.9.59 1.41.59.51 0 1.02-.2 1.41-.59l7.78-7.78 2.81-2.81c.8-.78.8-2.07 0-2.86zM5.41 20L4 18.59l7.72-7.72 1.47 1.35L5.41 20z\"/>\n",
              "  </svg>\n",
              "      </button>\n",
              "      \n",
              "  <style>\n",
              "    .colab-df-container {\n",
              "      display:flex;\n",
              "      flex-wrap:wrap;\n",
              "      gap: 12px;\n",
              "    }\n",
              "\n",
              "    .colab-df-convert {\n",
              "      background-color: #E8F0FE;\n",
              "      border: none;\n",
              "      border-radius: 50%;\n",
              "      cursor: pointer;\n",
              "      display: none;\n",
              "      fill: #1967D2;\n",
              "      height: 32px;\n",
              "      padding: 0 0 0 0;\n",
              "      width: 32px;\n",
              "    }\n",
              "\n",
              "    .colab-df-convert:hover {\n",
              "      background-color: #E2EBFA;\n",
              "      box-shadow: 0px 1px 2px rgba(60, 64, 67, 0.3), 0px 1px 3px 1px rgba(60, 64, 67, 0.15);\n",
              "      fill: #174EA6;\n",
              "    }\n",
              "\n",
              "    [theme=dark] .colab-df-convert {\n",
              "      background-color: #3B4455;\n",
              "      fill: #D2E3FC;\n",
              "    }\n",
              "\n",
              "    [theme=dark] .colab-df-convert:hover {\n",
              "      background-color: #434B5C;\n",
              "      box-shadow: 0px 1px 3px 1px rgba(0, 0, 0, 0.15);\n",
              "      filter: drop-shadow(0px 1px 2px rgba(0, 0, 0, 0.3));\n",
              "      fill: #FFFFFF;\n",
              "    }\n",
              "  </style>\n",
              "\n",
              "      <script>\n",
              "        const buttonEl =\n",
              "          document.querySelector('#df-23acbf7c-3ca1-44be-96b2-339c5db4dd24 button.colab-df-convert');\n",
              "        buttonEl.style.display =\n",
              "          google.colab.kernel.accessAllowed ? 'block' : 'none';\n",
              "\n",
              "        async function convertToInteractive(key) {\n",
              "          const element = document.querySelector('#df-23acbf7c-3ca1-44be-96b2-339c5db4dd24');\n",
              "          const dataTable =\n",
              "            await google.colab.kernel.invokeFunction('convertToInteractive',\n",
              "                                                     [key], {});\n",
              "          if (!dataTable) return;\n",
              "\n",
              "          const docLinkHtml = 'Like what you see? Visit the ' +\n",
              "            '<a target=\"_blank\" href=https://colab.research.google.com/notebooks/data_table.ipynb>data table notebook</a>'\n",
              "            + ' to learn more about interactive tables.';\n",
              "          element.innerHTML = '';\n",
              "          dataTable['output_type'] = 'display_data';\n",
              "          await google.colab.output.renderOutput(dataTable, element);\n",
              "          const docLink = document.createElement('div');\n",
              "          docLink.innerHTML = docLinkHtml;\n",
              "          element.appendChild(docLink);\n",
              "        }\n",
              "      </script>\n",
              "    </div>\n",
              "  </div>\n",
              "  "
            ],
            "text/plain": [
              "    cnt\n",
              "0  1885\n",
              "1  2175\n",
              "2  2485\n",
              "3  2882\n",
              "4  2965"
            ]
          },
          "metadata": {},
          "execution_count": 35
        }
      ]
    },
    {
      "cell_type": "code",
      "metadata": {
        "id": "VqFHMu4wtg7f",
        "colab": {
          "base_uri": "https://localhost:8080/",
          "height": 206
        },
        "outputId": "17d2221d-d91d-4e9f-98a9-62bf4f6fc02e"
      },
      "source": [
        "compare['lgb'] = lgb\n",
        "compare['xgb'] = xgb\n",
        "compare['rf'] = rf\n",
        "compare['dnn'] = dnn\n",
        "compare.head()"
      ],
      "execution_count": null,
      "outputs": [
        {
          "output_type": "execute_result",
          "data": {
            "text/html": [
              "\n",
              "  <div id=\"df-d855f06c-9dda-49ca-a8ee-cb8cfe43ddc1\">\n",
              "    <div class=\"colab-df-container\">\n",
              "      <div>\n",
              "<style scoped>\n",
              "    .dataframe tbody tr th:only-of-type {\n",
              "        vertical-align: middle;\n",
              "    }\n",
              "\n",
              "    .dataframe tbody tr th {\n",
              "        vertical-align: top;\n",
              "    }\n",
              "\n",
              "    .dataframe thead th {\n",
              "        text-align: right;\n",
              "    }\n",
              "</style>\n",
              "<table border=\"1\" class=\"dataframe\">\n",
              "  <thead>\n",
              "    <tr style=\"text-align: right;\">\n",
              "      <th></th>\n",
              "      <th>cnt</th>\n",
              "      <th>lgb</th>\n",
              "      <th>xgb</th>\n",
              "      <th>rf</th>\n",
              "      <th>dnn</th>\n",
              "    </tr>\n",
              "  </thead>\n",
              "  <tbody>\n",
              "    <tr>\n",
              "      <th>0</th>\n",
              "      <td>1885</td>\n",
              "      <td>2180.209794</td>\n",
              "      <td>1584.790039</td>\n",
              "      <td>2091.64</td>\n",
              "      <td>2221.209473</td>\n",
              "    </tr>\n",
              "    <tr>\n",
              "      <th>1</th>\n",
              "      <td>2175</td>\n",
              "      <td>2264.791916</td>\n",
              "      <td>1746.654419</td>\n",
              "      <td>1982.01</td>\n",
              "      <td>2704.970703</td>\n",
              "    </tr>\n",
              "    <tr>\n",
              "      <th>2</th>\n",
              "      <td>2485</td>\n",
              "      <td>2622.855338</td>\n",
              "      <td>2078.126221</td>\n",
              "      <td>2384.50</td>\n",
              "      <td>2973.265625</td>\n",
              "    </tr>\n",
              "    <tr>\n",
              "      <th>3</th>\n",
              "      <td>2882</td>\n",
              "      <td>2717.698750</td>\n",
              "      <td>2123.717041</td>\n",
              "      <td>2404.47</td>\n",
              "      <td>2916.580322</td>\n",
              "    </tr>\n",
              "    <tr>\n",
              "      <th>4</th>\n",
              "      <td>2965</td>\n",
              "      <td>2711.021494</td>\n",
              "      <td>2332.191650</td>\n",
              "      <td>2414.20</td>\n",
              "      <td>2820.417480</td>\n",
              "    </tr>\n",
              "  </tbody>\n",
              "</table>\n",
              "</div>\n",
              "      <button class=\"colab-df-convert\" onclick=\"convertToInteractive('df-d855f06c-9dda-49ca-a8ee-cb8cfe43ddc1')\"\n",
              "              title=\"Convert this dataframe to an interactive table.\"\n",
              "              style=\"display:none;\">\n",
              "        \n",
              "  <svg xmlns=\"http://www.w3.org/2000/svg\" height=\"24px\"viewBox=\"0 0 24 24\"\n",
              "       width=\"24px\">\n",
              "    <path d=\"M0 0h24v24H0V0z\" fill=\"none\"/>\n",
              "    <path d=\"M18.56 5.44l.94 2.06.94-2.06 2.06-.94-2.06-.94-.94-2.06-.94 2.06-2.06.94zm-11 1L8.5 8.5l.94-2.06 2.06-.94-2.06-.94L8.5 2.5l-.94 2.06-2.06.94zm10 10l.94 2.06.94-2.06 2.06-.94-2.06-.94-.94-2.06-.94 2.06-2.06.94z\"/><path d=\"M17.41 7.96l-1.37-1.37c-.4-.4-.92-.59-1.43-.59-.52 0-1.04.2-1.43.59L10.3 9.45l-7.72 7.72c-.78.78-.78 2.05 0 2.83L4 21.41c.39.39.9.59 1.41.59.51 0 1.02-.2 1.41-.59l7.78-7.78 2.81-2.81c.8-.78.8-2.07 0-2.86zM5.41 20L4 18.59l7.72-7.72 1.47 1.35L5.41 20z\"/>\n",
              "  </svg>\n",
              "      </button>\n",
              "      \n",
              "  <style>\n",
              "    .colab-df-container {\n",
              "      display:flex;\n",
              "      flex-wrap:wrap;\n",
              "      gap: 12px;\n",
              "    }\n",
              "\n",
              "    .colab-df-convert {\n",
              "      background-color: #E8F0FE;\n",
              "      border: none;\n",
              "      border-radius: 50%;\n",
              "      cursor: pointer;\n",
              "      display: none;\n",
              "      fill: #1967D2;\n",
              "      height: 32px;\n",
              "      padding: 0 0 0 0;\n",
              "      width: 32px;\n",
              "    }\n",
              "\n",
              "    .colab-df-convert:hover {\n",
              "      background-color: #E2EBFA;\n",
              "      box-shadow: 0px 1px 2px rgba(60, 64, 67, 0.3), 0px 1px 3px 1px rgba(60, 64, 67, 0.15);\n",
              "      fill: #174EA6;\n",
              "    }\n",
              "\n",
              "    [theme=dark] .colab-df-convert {\n",
              "      background-color: #3B4455;\n",
              "      fill: #D2E3FC;\n",
              "    }\n",
              "\n",
              "    [theme=dark] .colab-df-convert:hover {\n",
              "      background-color: #434B5C;\n",
              "      box-shadow: 0px 1px 3px 1px rgba(0, 0, 0, 0.15);\n",
              "      filter: drop-shadow(0px 1px 2px rgba(0, 0, 0, 0.3));\n",
              "      fill: #FFFFFF;\n",
              "    }\n",
              "  </style>\n",
              "\n",
              "      <script>\n",
              "        const buttonEl =\n",
              "          document.querySelector('#df-d855f06c-9dda-49ca-a8ee-cb8cfe43ddc1 button.colab-df-convert');\n",
              "        buttonEl.style.display =\n",
              "          google.colab.kernel.accessAllowed ? 'block' : 'none';\n",
              "\n",
              "        async function convertToInteractive(key) {\n",
              "          const element = document.querySelector('#df-d855f06c-9dda-49ca-a8ee-cb8cfe43ddc1');\n",
              "          const dataTable =\n",
              "            await google.colab.kernel.invokeFunction('convertToInteractive',\n",
              "                                                     [key], {});\n",
              "          if (!dataTable) return;\n",
              "\n",
              "          const docLinkHtml = 'Like what you see? Visit the ' +\n",
              "            '<a target=\"_blank\" href=https://colab.research.google.com/notebooks/data_table.ipynb>data table notebook</a>'\n",
              "            + ' to learn more about interactive tables.';\n",
              "          element.innerHTML = '';\n",
              "          dataTable['output_type'] = 'display_data';\n",
              "          await google.colab.output.renderOutput(dataTable, element);\n",
              "          const docLink = document.createElement('div');\n",
              "          docLink.innerHTML = docLinkHtml;\n",
              "          element.appendChild(docLink);\n",
              "        }\n",
              "      </script>\n",
              "    </div>\n",
              "  </div>\n",
              "  "
            ],
            "text/plain": [
              "    cnt          lgb          xgb       rf          dnn\n",
              "0  1885  2180.209794  1584.790039  2091.64  2221.209473\n",
              "1  2175  2264.791916  1746.654419  1982.01  2704.970703\n",
              "2  2485  2622.855338  2078.126221  2384.50  2973.265625\n",
              "3  2882  2717.698750  2123.717041  2404.47  2916.580322\n",
              "4  2965  2711.021494  2332.191650  2414.20  2820.417480"
            ]
          },
          "metadata": {},
          "execution_count": 36
        }
      ]
    },
    {
      "cell_type": "code",
      "metadata": {
        "id": "RJbcppWGtg9w",
        "colab": {
          "base_uri": "https://localhost:8080/",
          "height": 297
        },
        "outputId": "00893fdf-7209-464d-b2a9-f865078edd3f"
      },
      "source": [
        "#커널밀도 그래프\n",
        "\n",
        "sns.kdeplot(compare['cnt'], shade = True, color='r')\n",
        "sns.kdeplot(compare['xgb'], shade = True, color='b')\n",
        "sns.kdeplot(compare['rf'], shade = True, color='y')\n",
        "sns.kdeplot(compare['dnn'], shade = True, color='g')\n",
        "#sns.kdeplot(compare['lgb'], shade = True, color='')"
      ],
      "execution_count": null,
      "outputs": [
        {
          "output_type": "execute_result",
          "data": {
            "text/plain": [
              "<matplotlib.axes._subplots.AxesSubplot at 0x7ff729645dd0>"
            ]
          },
          "metadata": {},
          "execution_count": 37
        },
        {
          "output_type": "display_data",
          "data": {
            "image/png": "[encoded data removed]",
            "text/plain": [
              "<Figure size 432x288 with 1 Axes>"
            ]
          },
          "metadata": {
            "needs_background": "light"
          }
        }
      ]
    },
    {
      "cell_type": "markdown",
      "source": [
        "### 시계열 딥러닝\n",
        "##### 자전거 이용 객수만의 시계열 데이터 자체 패턴을 기반으로 학습 (그 외 입력 변수X)\n",
        "\n",
        "\n",
        "\n",
        "1.   RNN\n",
        "2.   LSTM\n",
        "3.   GRU\n",
        "\n",
        "\n",
        "\n"
      ],
      "metadata": {
        "id": "uDqyifru8xa4"
      }
    },
    {
      "cell_type": "code",
      "metadata": {
        "id": "8juKDhUdtg__",
        "colab": {
          "base_uri": "https://localhost:8080/",
          "height": 206
        },
        "outputId": "35a483a5-dacf-4637-8367-487ad2923e57"
      },
      "source": [
        "df = pd.read_csv('/content/drive/MyDrive/ML DL/[kaggle]/london_merged.csv', parse_dates=['timestamp']) #timestamp변수를 date포맷으로 인식\n",
        "df.head()"
      ],
      "execution_count": null,
      "outputs": [
        {
          "output_type": "execute_result",
          "data": {
            "text/html": [
              "\n",
              "  <div id=\"df-1774242f-88d9-476f-956e-f59ee1b8bb94\">\n",
              "    <div class=\"colab-df-container\">\n",
              "      <div>\n",
              "<style scoped>\n",
              "    .dataframe tbody tr th:only-of-type {\n",
              "        vertical-align: middle;\n",
              "    }\n",
              "\n",
              "    .dataframe tbody tr th {\n",
              "        vertical-align: top;\n",
              "    }\n",
              "\n",
              "    .dataframe thead th {\n",
              "        text-align: right;\n",
              "    }\n",
              "</style>\n",
              "<table border=\"1\" class=\"dataframe\">\n",
              "  <thead>\n",
              "    <tr style=\"text-align: right;\">\n",
              "      <th></th>\n",
              "      <th>timestamp</th>\n",
              "      <th>cnt</th>\n",
              "      <th>t1</th>\n",
              "      <th>t2</th>\n",
              "      <th>hum</th>\n",
              "      <th>wind_speed</th>\n",
              "      <th>weather_code</th>\n",
              "      <th>is_holiday</th>\n",
              "      <th>is_weekend</th>\n",
              "      <th>season</th>\n",
              "    </tr>\n",
              "  </thead>\n",
              "  <tbody>\n",
              "    <tr>\n",
              "      <th>0</th>\n",
              "      <td>2015-01-04 00:00:00</td>\n",
              "      <td>182</td>\n",
              "      <td>3.0</td>\n",
              "      <td>2.0</td>\n",
              "      <td>93.0</td>\n",
              "      <td>6.0</td>\n",
              "      <td>3.0</td>\n",
              "      <td>0.0</td>\n",
              "      <td>1.0</td>\n",
              "      <td>3.0</td>\n",
              "    </tr>\n",
              "    <tr>\n",
              "      <th>1</th>\n",
              "      <td>2015-01-04 01:00:00</td>\n",
              "      <td>138</td>\n",
              "      <td>3.0</td>\n",
              "      <td>2.5</td>\n",
              "      <td>93.0</td>\n",
              "      <td>5.0</td>\n",
              "      <td>1.0</td>\n",
              "      <td>0.0</td>\n",
              "      <td>1.0</td>\n",
              "      <td>3.0</td>\n",
              "    </tr>\n",
              "    <tr>\n",
              "      <th>2</th>\n",
              "      <td>2015-01-04 02:00:00</td>\n",
              "      <td>134</td>\n",
              "      <td>2.5</td>\n",
              "      <td>2.5</td>\n",
              "      <td>96.5</td>\n",
              "      <td>0.0</td>\n",
              "      <td>1.0</td>\n",
              "      <td>0.0</td>\n",
              "      <td>1.0</td>\n",
              "      <td>3.0</td>\n",
              "    </tr>\n",
              "    <tr>\n",
              "      <th>3</th>\n",
              "      <td>2015-01-04 03:00:00</td>\n",
              "      <td>72</td>\n",
              "      <td>2.0</td>\n",
              "      <td>2.0</td>\n",
              "      <td>100.0</td>\n",
              "      <td>0.0</td>\n",
              "      <td>1.0</td>\n",
              "      <td>0.0</td>\n",
              "      <td>1.0</td>\n",
              "      <td>3.0</td>\n",
              "    </tr>\n",
              "    <tr>\n",
              "      <th>4</th>\n",
              "      <td>2015-01-04 04:00:00</td>\n",
              "      <td>47</td>\n",
              "      <td>2.0</td>\n",
              "      <td>0.0</td>\n",
              "      <td>93.0</td>\n",
              "      <td>6.5</td>\n",
              "      <td>1.0</td>\n",
              "      <td>0.0</td>\n",
              "      <td>1.0</td>\n",
              "      <td>3.0</td>\n",
              "    </tr>\n",
              "  </tbody>\n",
              "</table>\n",
              "</div>\n",
              "      <button class=\"colab-df-convert\" onclick=\"convertToInteractive('df-1774242f-88d9-476f-956e-f59ee1b8bb94')\"\n",
              "              title=\"Convert this dataframe to an interactive table.\"\n",
              "              style=\"display:none;\">\n",
              "        \n",
              "  <svg xmlns=\"http://www.w3.org/2000/svg\" height=\"24px\"viewBox=\"0 0 24 24\"\n",
              "       width=\"24px\">\n",
              "    <path d=\"M0 0h24v24H0V0z\" fill=\"none\"/>\n",
              "    <path d=\"M18.56 5.44l.94 2.06.94-2.06 2.06-.94-2.06-.94-.94-2.06-.94 2.06-2.06.94zm-11 1L8.5 8.5l.94-2.06 2.06-.94-2.06-.94L8.5 2.5l-.94 2.06-2.06.94zm10 10l.94 2.06.94-2.06 2.06-.94-2.06-.94-.94-2.06-.94 2.06-2.06.94z\"/><path d=\"M17.41 7.96l-1.37-1.37c-.4-.4-.92-.59-1.43-.59-.52 0-1.04.2-1.43.59L10.3 9.45l-7.72 7.72c-.78.78-.78 2.05 0 2.83L4 21.41c.39.39.9.59 1.41.59.51 0 1.02-.2 1.41-.59l7.78-7.78 2.81-2.81c.8-.78.8-2.07 0-2.86zM5.41 20L4 18.59l7.72-7.72 1.47 1.35L5.41 20z\"/>\n",
              "  </svg>\n",
              "      </button>\n",
              "      \n",
              "  <style>\n",
              "    .colab-df-container {\n",
              "      display:flex;\n",
              "      flex-wrap:wrap;\n",
              "      gap: 12px;\n",
              "    }\n",
              "\n",
              "    .colab-df-convert {\n",
              "      background-color: #E8F0FE;\n",
              "      border: none;\n",
              "      border-radius: 50%;\n",
              "      cursor: pointer;\n",
              "      display: none;\n",
              "      fill: #1967D2;\n",
              "      height: 32px;\n",
              "      padding: 0 0 0 0;\n",
              "      width: 32px;\n",
              "    }\n",
              "\n",
              "    .colab-df-convert:hover {\n",
              "      background-color: #E2EBFA;\n",
              "      box-shadow: 0px 1px 2px rgba(60, 64, 67, 0.3), 0px 1px 3px 1px rgba(60, 64, 67, 0.15);\n",
              "      fill: #174EA6;\n",
              "    }\n",
              "\n",
              "    [theme=dark] .colab-df-convert {\n",
              "      background-color: #3B4455;\n",
              "      fill: #D2E3FC;\n",
              "    }\n",
              "\n",
              "    [theme=dark] .colab-df-convert:hover {\n",
              "      background-color: #434B5C;\n",
              "      box-shadow: 0px 1px 3px 1px rgba(0, 0, 0, 0.15);\n",
              "      filter: drop-shadow(0px 1px 2px rgba(0, 0, 0, 0.3));\n",
              "      fill: #FFFFFF;\n",
              "    }\n",
              "  </style>\n",
              "\n",
              "      <script>\n",
              "        const buttonEl =\n",
              "          document.querySelector('#df-1774242f-88d9-476f-956e-f59ee1b8bb94 button.colab-df-convert');\n",
              "        buttonEl.style.display =\n",
              "          google.colab.kernel.accessAllowed ? 'block' : 'none';\n",
              "\n",
              "        async function convertToInteractive(key) {\n",
              "          const element = document.querySelector('#df-1774242f-88d9-476f-956e-f59ee1b8bb94');\n",
              "          const dataTable =\n",
              "            await google.colab.kernel.invokeFunction('convertToInteractive',\n",
              "                                                     [key], {});\n",
              "          if (!dataTable) return;\n",
              "\n",
              "          const docLinkHtml = 'Like what you see? Visit the ' +\n",
              "            '<a target=\"_blank\" href=https://colab.research.google.com/notebooks/data_table.ipynb>data table notebook</a>'\n",
              "            + ' to learn more about interactive tables.';\n",
              "          element.innerHTML = '';\n",
              "          dataTable['output_type'] = 'display_data';\n",
              "          await google.colab.output.renderOutput(dataTable, element);\n",
              "          const docLink = document.createElement('div');\n",
              "          docLink.innerHTML = docLinkHtml;\n",
              "          element.appendChild(docLink);\n",
              "        }\n",
              "      </script>\n",
              "    </div>\n",
              "  </div>\n",
              "  "
            ],
            "text/plain": [
              "            timestamp  cnt   t1  ...  is_holiday  is_weekend  season\n",
              "0 2015-01-04 00:00:00  182  3.0  ...         0.0         1.0     3.0\n",
              "1 2015-01-04 01:00:00  138  3.0  ...         0.0         1.0     3.0\n",
              "2 2015-01-04 02:00:00  134  2.5  ...         0.0         1.0     3.0\n",
              "3 2015-01-04 03:00:00   72  2.0  ...         0.0         1.0     3.0\n",
              "4 2015-01-04 04:00:00   47  2.0  ...         0.0         1.0     3.0\n",
              "\n",
              "[5 rows x 10 columns]"
            ]
          },
          "metadata": {},
          "execution_count": 4
        }
      ]
    },
    {
      "cell_type": "code",
      "metadata": {
        "id": "lnG7VllkthCg"
      },
      "source": [
        "# 17000개 학습용, 414개 테스트용 분리 (pandas iloc 기능)\n",
        "train = df.iloc[:17000, 1:2] #행, 렬(CNT)\n",
        "test = df.iloc[17000:17414, 1:2]"
      ],
      "execution_count": null,
      "outputs": []
    },
    {
      "cell_type": "code",
      "metadata": {
        "id": "SFkzj83fthEn",
        "colab": {
          "base_uri": "https://localhost:8080/"
        },
        "outputId": "d813179d-6378-438f-8ef4-fd8718d0f297"
      },
      "source": [
        "print(train.shape)\n",
        "print(test.shape)"
      ],
      "execution_count": null,
      "outputs": [
        {
          "output_type": "stream",
          "name": "stdout",
          "text": [
            "(17000, 1)\n",
            "(414, 1)\n"
          ]
        }
      ]
    },
    {
      "cell_type": "code",
      "metadata": {
        "id": "SE3ol5MqthG9",
        "colab": {
          "base_uri": "https://localhost:8080/",
          "height": 281
        },
        "outputId": "dca1af84-4c59-4eb5-8a1b-6891d5874378"
      },
      "source": [
        "df['cnt'][:17000].plot(figsize=(15,4), legend=True)\n",
        "df['cnt'][17000:].plot(figsize=(15,4), legend=True)\n",
        "plt.legend(['train', 'test'])\n",
        "plt.title('bike share demand')\n",
        "plt.show()"
      ],
      "execution_count": null,
      "outputs": [
        {
          "output_type": "display_data",
          "data": {
            "image/png": "[encoded data removed]",
            "text/plain": [
              "<Figure size 1080x288 with 1 Axes>"
            ]
          },
          "metadata": {
            "needs_background": "light"
          }
        }
      ]
    },
    {
      "cell_type": "markdown",
      "source": [
        "##### 데이터 전처리"
      ],
      "metadata": {
        "id": "Cd7PMl_R_nHx"
      }
    },
    {
      "cell_type": "code",
      "metadata": {
        "id": "J6GiIdb5thJi",
        "colab": {
          "base_uri": "https://localhost:8080/"
        },
        "outputId": "79d627bf-3b98-40d5-a78a-170ad6c96057"
      },
      "source": [
        "from statsmodels.tsa.stattools import pacf #차수 추정 방법 중 하나\n",
        "\n",
        "pacf = pacf(df['cnt'], nlags=20, method='ols')\n",
        "\n",
        "print(pacf)"
      ],
      "execution_count": null,
      "outputs": [
        {
          "output_type": "stream",
          "name": "stderr",
          "text": [
            "/usr/local/lib/python3.7/dist-packages/statsmodels/tools/_testing.py:19: FutureWarning: pandas.util.testing is deprecated. Use the functions in the public API at pandas.testing instead.\n",
            "  import pandas.util.testing as tm\n"
          ]
        },
        {
          "output_type": "stream",
          "name": "stdout",
          "text": [
            "[ 1.          0.78148357 -0.41172684  0.18486682 -0.07510114 -0.09947694\n",
            " -0.08494917 -0.00403993  0.0920456   0.07065422 -0.32935188 -0.06873344\n",
            "  0.05112775  0.04852911  0.06695059 -0.19621297 -0.07610221  0.14365297\n",
            " -0.11638129  0.18990804  0.16480713]\n"
          ]
        }
      ]
    },
    {
      "cell_type": "code",
      "metadata": {
        "id": "695dphWmthL4",
        "colab": {
          "base_uri": "https://localhost:8080/",
          "height": 299
        },
        "outputId": "66208a22-c6f0-418a-c8c9-dd221a141036"
      },
      "source": [
        "from statsmodels.graphics.tsaplots import plot_pacf\n",
        "plot_pacf(pacf, lags=20, method='ols', title='pa').show\n",
        "\n",
        "# 1시간 간격 이후에는 확 떨어짐\n",
        "# 1시간 전 데이터를 독립변수로 삼아서 그 다음 시간을 예측하는"
      ],
      "execution_count": null,
      "outputs": [
        {
          "output_type": "execute_result",
          "data": {
            "text/plain": [
              "<bound method Figure.show of <Figure size 432x288 with 1 Axes>>"
            ]
          },
          "metadata": {},
          "execution_count": 9
        },
        {
          "output_type": "display_data",
          "data": {
            "image/png": "[encoded data removed]",
            "text/plain": [
              "<Figure size 432x288 with 1 Axes>"
            ]
          },
          "metadata": {
            "needs_background": "light"
          }
        }
      ]
    },
    {
      "cell_type": "code",
      "source": [
        "# 스케일 작업으로 정규분포 만들기 (최소값과 최대값으로) : MinMaxScaler\n",
        "\n",
        "from sklearn.preprocessing import MinMaxScaler\n",
        "\n",
        "sc = MinMaxScaler(feature_range = (0,1))\n",
        "train_scaled = sc.fit_transform(train)\n"
      ],
      "metadata": {
        "id": "pLDJrvmqARnN"
      },
      "execution_count": null,
      "outputs": []
    },
    {
      "cell_type": "code",
      "source": [
        "train_scaled"
      ],
      "metadata": {
        "colab": {
          "base_uri": "https://localhost:8080/"
        },
        "id": "DIDslnJYCgTQ",
        "outputId": "73ef325b-5d73-46a4-e019-79554fb54773"
      },
      "execution_count": null,
      "outputs": [
        {
          "output_type": "execute_result",
          "data": {
            "text/plain": [
              "array([[0.02315522],\n",
              "       [0.01755725],\n",
              "       [0.01704835],\n",
              "       ...,\n",
              "       [0.17468193],\n",
              "       [0.16348601],\n",
              "       [0.14083969]])"
            ]
          },
          "metadata": {},
          "execution_count": 11
        }
      ]
    },
    {
      "cell_type": "code",
      "source": [
        "# 1시간 단위로 shift 시켜서 Xt(i-1)을 독립변수로 만들기\n",
        "\n",
        "x_train = []\n",
        "y_train = []\n",
        "\n",
        "for i in range(1, 17000):\n",
        "  x_train.append(train_scaled[i-1:i, 0]) #1시간 전 값\n",
        "  y_train.append(train_scaled[i, 0])\n",
        "\n",
        "x_train, y_train = np.array(x_train), np.array(y_train)"
      ],
      "metadata": {
        "id": "NsX6HeUWChud"
      },
      "execution_count": null,
      "outputs": []
    },
    {
      "cell_type": "code",
      "source": [
        "x_train.shape"
      ],
      "metadata": {
        "colab": {
          "base_uri": "https://localhost:8080/"
        },
        "id": "w_G3I_fzDJVn",
        "outputId": "afb75ddc-cc0c-4b75-bcf1-d601656e0f64"
      },
      "execution_count": null,
      "outputs": [
        {
          "output_type": "execute_result",
          "data": {
            "text/plain": [
              "(16999, 1)"
            ]
          },
          "metadata": {},
          "execution_count": 13
        }
      ]
    },
    {
      "cell_type": "code",
      "source": [
        "x_train = np.reshape(x_train, (x_train.shape[0], x_train.shape[1], 1)) # 3차원 배열로 만들기\n",
        "x_train.shape"
      ],
      "metadata": {
        "colab": {
          "base_uri": "https://localhost:8080/"
        },
        "id": "vRreqTTxDQiu",
        "outputId": "d3f30888-dfbe-4452-ff17-1d61b7588bd1"
      },
      "execution_count": null,
      "outputs": [
        {
          "output_type": "execute_result",
          "data": {
            "text/plain": [
              "(16999, 1, 1)"
            ]
          },
          "metadata": {},
          "execution_count": 14
        }
      ]
    },
    {
      "cell_type": "markdown",
      "source": [
        "##### 1. RNN 모형\n",
        "- 과거의 정보를 보관\n",
        "- Sequence data, 시계열 분석에 활용"
      ],
      "metadata": {
        "id": "3cbtIMumERcX"
      }
    },
    {
      "cell_type": "code",
      "source": [
        "from keras.models import Sequential\n",
        "from keras.layers.core import Dense, Activation\n",
        "from keras.layers.recurrent import SimpleRNN"
      ],
      "metadata": {
        "id": "GPBZ8PAYDfiv"
      },
      "execution_count": null,
      "outputs": []
    },
    {
      "cell_type": "code",
      "source": [
        "rnn = Sequential()\n",
        "rnn.add(SimpleRNN(activation='relu', units=6, input_shape=(1,1)))\n",
        "rnn.add(Dense(activation='linear', units=1))"
      ],
      "metadata": {
        "id": "IasmRbmYFCUR"
      },
      "execution_count": null,
      "outputs": []
    },
    {
      "cell_type": "code",
      "source": [
        "print(rnn.summary())"
      ],
      "metadata": {
        "colab": {
          "base_uri": "https://localhost:8080/"
        },
        "id": "KHxHpE0GFTfm",
        "outputId": "03f85dd9-e449-497a-83d5-eb3c48af5fc8"
      },
      "execution_count": null,
      "outputs": [
        {
          "output_type": "stream",
          "name": "stdout",
          "text": [
            "Model: \"sequential\"\n",
            "_________________________________________________________________\n",
            " Layer (type)                Output Shape              Param #   \n",
            "=================================================================\n",
            " simple_rnn (SimpleRNN)      (None, 6)                 48        \n",
            "                                                                 \n",
            " dense (Dense)               (None, 1)                 7         \n",
            "                                                                 \n",
            "=================================================================\n",
            "Total params: 55\n",
            "Trainable params: 55\n",
            "Non-trainable params: 0\n",
            "_________________________________________________________________\n",
            "None\n"
          ]
        }
      ]
    },
    {
      "cell_type": "code",
      "source": [
        "rnn.compile(loss='mse', optimizer='adam', metrics=['mse'])"
      ],
      "metadata": {
        "id": "g1-B7U4pFU_l"
      },
      "execution_count": null,
      "outputs": []
    },
    {
      "cell_type": "code",
      "source": [
        "rnn.fit(x_train, y_train, batch_size=1, epochs=2)"
      ],
      "metadata": {
        "colab": {
          "base_uri": "https://localhost:8080/"
        },
        "id": "nFkH1mewFeue",
        "outputId": "76f22ffd-5b25-4a2e-e616-27e3fac66eb9"
      },
      "execution_count": null,
      "outputs": [
        {
          "output_type": "stream",
          "name": "stdout",
          "text": [
            "Epoch 1/2\n",
            "16999/16999 [==============================] - 45s 3ms/step - loss: 0.0077 - mse: 0.0077\n",
            "Epoch 2/2\n",
            "16999/16999 [==============================] - 26s 2ms/step - loss: 0.0077 - mse: 0.0077\n"
          ]
        },
        {
          "output_type": "execute_result",
          "data": {
            "text/plain": [
              "<keras.callbacks.History at 0x7fc8a1b23150>"
            ]
          },
          "metadata": {},
          "execution_count": 19
        }
      ]
    },
    {
      "cell_type": "code",
      "source": [
        "inputs = sc.transform(test)\n",
        "inputs.shape"
      ],
      "metadata": {
        "colab": {
          "base_uri": "https://localhost:8080/"
        },
        "id": "gACXqkGVFjNV",
        "outputId": "b96ee102-6954-42cb-ffd0-d97354c04436"
      },
      "execution_count": null,
      "outputs": [
        {
          "output_type": "execute_result",
          "data": {
            "text/plain": [
              "(414, 1)"
            ]
          },
          "metadata": {},
          "execution_count": 20
        }
      ]
    },
    {
      "cell_type": "code",
      "source": [
        "x_test = []\n",
        "\n",
        "for i in range(1, 415):\n",
        "  x_test.append(inputs[i-1:i, 0])\n",
        "\n",
        "x_test = np.array(x_test)\n",
        "x_test = np.reshape(x_test, (x_test.shape[0], x_test.shape[1], 1))\n",
        "x_test.shape"
      ],
      "metadata": {
        "colab": {
          "base_uri": "https://localhost:8080/"
        },
        "id": "kQBt29qtF24c",
        "outputId": "279fc419-3134-4a55-ad20-fba1faf4ab6f"
      },
      "execution_count": null,
      "outputs": [
        {
          "output_type": "execute_result",
          "data": {
            "text/plain": [
              "(414, 1, 1)"
            ]
          },
          "metadata": {},
          "execution_count": 21
        }
      ]
    },
    {
      "cell_type": "code",
      "source": [
        "rnn = rnn.predict(x_test)\n",
        "rnn = sc.inverse_transform(rnn) #scale작업한 것을 원래 값으로 되돌리기"
      ],
      "metadata": {
        "id": "I1ZJxuy-GIyP"
      },
      "execution_count": null,
      "outputs": []
    },
    {
      "cell_type": "code",
      "source": [
        "#데이터 프레임으로 바꿔줘야 그래프로 그릴 수 있음\n",
        "\n",
        "test1 = pd.DataFrame(test)\n",
        "rnn1 = pd.DataFrame(rnn)"
      ],
      "metadata": {
        "id": "EK3JxLABGSfi"
      },
      "execution_count": null,
      "outputs": []
    },
    {
      "cell_type": "code",
      "source": [
        "# 테스트 세트 그래프 그리기\n",
        "\n",
        "test1.plot(figsize=(15, 4), legend=True)\n",
        "plt.legend(['cnt'])\n",
        "plt.title('bike share demand')\n",
        "plt.show()"
      ],
      "metadata": {
        "colab": {
          "base_uri": "https://localhost:8080/",
          "height": 281
        },
        "id": "tw9KZiehGdof",
        "outputId": "db9a46bc-0a15-49da-9e59-c3fb050c37a9"
      },
      "execution_count": null,
      "outputs": [
        {
          "output_type": "display_data",
          "data": {
            "image/png": "[encoded data removed]",
            "text/plain": [
              "<Figure size 1080x288 with 1 Axes>"
            ]
          },
          "metadata": {
            "needs_background": "light"
          }
        }
      ]
    },
    {
      "cell_type": "code",
      "source": [
        "# 학습하여 예측한 결과 값 그래프 그리기\n",
        "\n",
        "rnn1.plot(figsize=(15,4), legend=True)\n",
        "plt.legend(['cnt'])\n",
        "plt.title('bike share demeand')\n",
        "plt.show()"
      ],
      "metadata": {
        "colab": {
          "base_uri": "https://localhost:8080/",
          "height": 281
        },
        "id": "jAr6YWyhGt1e",
        "outputId": "822d5cd5-6433-4e0b-8d3d-b6e9e1858a2e"
      },
      "execution_count": null,
      "outputs": [
        {
          "output_type": "display_data",
          "data": {
            "image/png": "[encoded data removed]",
            "text/plain": [
              "<Figure size 1080x288 with 1 Axes>"
            ]
          },
          "metadata": {
            "needs_background": "light"
          }
        }
      ]
    },
    {
      "cell_type": "code",
      "source": [
        "# 한 표에 동시에 나오게 그리기\n",
        "\n",
        "test = np.array(test) # 다시 array로 만들어주기\n",
        "\n",
        "plt.figure(figsize=(15, 5))\n",
        "plt.plot(test, marker='.', label='cnt', color='black')\n",
        "plt.plot(rnn, marker='.', label='RNN', color='red')\n",
        "plt.legend()\n",
        "\n",
        "# rnn이 과소적합한 형태인 것을 알 수 있다 "
      ],
      "metadata": {
        "colab": {
          "base_uri": "https://localhost:8080/",
          "height": 338
        },
        "id": "1M1ekYKnG7LO",
        "outputId": "90e0ad31-28ba-4a72-e584-f8d17900dd1f"
      },
      "execution_count": null,
      "outputs": [
        {
          "output_type": "execute_result",
          "data": {
            "text/plain": [
              "<matplotlib.legend.Legend at 0x7fc836b96590>"
            ]
          },
          "metadata": {},
          "execution_count": 27
        },
        {
          "output_type": "display_data",
          "data": {
            "image/png": "[encoded data removed]",
            "text/plain": [
              "<Figure size 1080x360 with 1 Axes>"
            ]
          },
          "metadata": {
            "needs_background": "light"
          }
        }
      ]
    },
    {
      "cell_type": "markdown",
      "source": [
        "##### 2. LSTM\n",
        "- 경사하강 문제 해결 (RNN의 단점 해결)\n",
        "- 메모리 블락 사용으로 장기 메모리\n",
        "- RNN보다 성능이 높음"
      ],
      "metadata": {
        "id": "uPuo8DKFH23W"
      }
    },
    {
      "cell_type": "code",
      "source": [
        "from keras.layers.recurrent import LSTM\n",
        "lstm = Sequential()\n",
        "lstm.add(LSTM(units=6, activation='relu', input_shape=(1,1)))\n",
        "lstm.add(Dense(units=1, activation='linear'))"
      ],
      "metadata": {
        "id": "limspxaQHbO-"
      },
      "execution_count": null,
      "outputs": []
    },
    {
      "cell_type": "code",
      "source": [
        "print(lstm.summary())\n",
        "\n",
        "#파라미터가 192개로 더 정교하게 추정할 수 있지만 overfitting의 가능성이 있음"
      ],
      "metadata": {
        "colab": {
          "base_uri": "https://localhost:8080/"
        },
        "id": "L-S9J_FzIT83",
        "outputId": "25ea59e3-528d-4f5b-87f6-ff689593270d"
      },
      "execution_count": null,
      "outputs": [
        {
          "output_type": "stream",
          "name": "stdout",
          "text": [
            "Model: \"sequential_1\"\n",
            "_________________________________________________________________\n",
            " Layer (type)                Output Shape              Param #   \n",
            "=================================================================\n",
            " lstm (LSTM)                 (None, 6)                 192       \n",
            "                                                                 \n",
            " dense_1 (Dense)             (None, 1)                 7         \n",
            "                                                                 \n",
            "=================================================================\n",
            "Total params: 199\n",
            "Trainable params: 199\n",
            "Non-trainable params: 0\n",
            "_________________________________________________________________\n",
            "None\n"
          ]
        }
      ]
    },
    {
      "cell_type": "code",
      "source": [
        "lstm.compile(loss='mse', optimizer = 'adam', metrics=['mse'])\n",
        "lstm.fit(x_train, y_train, batch_size=1, epochs=2)"
      ],
      "metadata": {
        "colab": {
          "base_uri": "https://localhost:8080/"
        },
        "id": "1KTzo4tXIZGP",
        "outputId": "8e35c8e3-d67c-4625-a3cb-95ce89dff3f3"
      },
      "execution_count": null,
      "outputs": [
        {
          "output_type": "stream",
          "name": "stdout",
          "text": [
            "Epoch 1/2\n",
            "16999/16999 [==============================] - 47s 3ms/step - loss: 0.0090 - mse: 0.0090\n",
            "Epoch 2/2\n",
            "16999/16999 [==============================] - 44s 3ms/step - loss: 0.0075 - mse: 0.0075\n"
          ]
        },
        {
          "output_type": "execute_result",
          "data": {
            "text/plain": [
              "<keras.callbacks.History at 0x7fc8346e1710>"
            ]
          },
          "metadata": {},
          "execution_count": 30
        }
      ]
    },
    {
      "cell_type": "code",
      "source": [
        "lstm = lstm.predict(x_test)\n",
        "lstm = sc.inverse_transform(lstm)"
      ],
      "metadata": {
        "id": "I4uMv6t1S90D"
      },
      "execution_count": null,
      "outputs": []
    },
    {
      "cell_type": "code",
      "source": [
        "plt.figure(figsize=(15,5))\n",
        "plt.plot(test, marker='.', label='cnt', color='black')\n",
        "plt.plot(lstm, marker='.', label='LSTM', color='green')\n",
        "plt.legend()"
      ],
      "metadata": {
        "colab": {
          "base_uri": "https://localhost:8080/",
          "height": 338
        },
        "id": "Z_gMv2O1TzMq",
        "outputId": "caaf9a56-86d9-4823-cc91-0c640f755477"
      },
      "execution_count": null,
      "outputs": [
        {
          "output_type": "execute_result",
          "data": {
            "text/plain": [
              "<matplotlib.legend.Legend at 0x7fc834327cd0>"
            ]
          },
          "metadata": {},
          "execution_count": 32
        },
        {
          "output_type": "display_data",
          "data": {
            "image/png": "[encoded data removed]",
            "text/plain": [
              "<Figure size 1080x360 with 1 Axes>"
            ]
          },
          "metadata": {
            "needs_background": "light"
          }
        }
      ]
    },
    {
      "cell_type": "markdown",
      "source": [
        "#####3. GRU  (Gated Recurrent Unit)(뉴욕대 교수님 개발)\n",
        "* LSTM의 overfitting을 보완\n",
        "* Unit 개수는 줄여주면서 성능은 동일한 수준으로 유지\n",
        "\n",
        "\n"
      ],
      "metadata": {
        "id": "RaZ1bnJkT0DF"
      }
    },
    {
      "cell_type": "code",
      "source": [
        "from keras.layers.recurrent import GRU\n",
        "\n",
        "gru = Sequential()\n",
        "gru.add(GRU(units=6, activation='relu', input_shape=(1,1)))\n",
        "gru.add(Dense(units=1, activation='linear'))"
      ],
      "metadata": {
        "id": "ZIzAm0atUClB"
      },
      "execution_count": null,
      "outputs": []
    },
    {
      "cell_type": "code",
      "source": [
        "print(gru.summary())\n",
        "#parameter수가 LSTM에 비해 줄어든 걸 알 수 있다"
      ],
      "metadata": {
        "colab": {
          "base_uri": "https://localhost:8080/"
        },
        "id": "ZM2L6fyYUwcc",
        "outputId": "a10d6998-30ef-4439-bf8c-26c7e7f6e95e"
      },
      "execution_count": null,
      "outputs": [
        {
          "output_type": "stream",
          "name": "stdout",
          "text": [
            "Model: \"sequential_2\"\n",
            "_________________________________________________________________\n",
            " Layer (type)                Output Shape              Param #   \n",
            "=================================================================\n",
            " gru (GRU)                   (None, 6)                 144       \n",
            "                                                                 \n",
            " dense_2 (Dense)             (None, 1)                 7         \n",
            "                                                                 \n",
            "=================================================================\n",
            "Total params: 151\n",
            "Trainable params: 151\n",
            "Non-trainable params: 0\n",
            "_________________________________________________________________\n",
            "None\n"
          ]
        }
      ]
    },
    {
      "cell_type": "code",
      "source": [
        "gru.compile(loss='mse', optimizer='adam', metrics=['mse'])\n",
        "gru.fit(x_train, y_train, batch_size=1, epochs=2)"
      ],
      "metadata": {
        "colab": {
          "base_uri": "https://localhost:8080/"
        },
        "id": "SnNwfDkAU26c",
        "outputId": "1c191f25-b2a1-437b-e821-0a8271c8bb58"
      },
      "execution_count": null,
      "outputs": [
        {
          "output_type": "stream",
          "name": "stdout",
          "text": [
            "Epoch 1/2\n",
            "16999/16999 [==============================] - 76s 4ms/step - loss: 0.0081 - mse: 0.0081\n",
            "Epoch 2/2\n",
            "16999/16999 [==============================] - 76s 4ms/step - loss: 0.0074 - mse: 0.0074\n"
          ]
        },
        {
          "output_type": "execute_result",
          "data": {
            "text/plain": [
              "<keras.callbacks.History at 0x7fc8347c8510>"
            ]
          },
          "metadata": {},
          "execution_count": 37
        }
      ]
    },
    {
      "cell_type": "code",
      "source": [
        "gru = gru.predict(x_test)\n",
        "gru = sc.inverse_transform(gru)"
      ],
      "metadata": {
        "id": "JtkpNgiEVQnk"
      },
      "execution_count": null,
      "outputs": []
    },
    {
      "cell_type": "code",
      "source": [
        "plt.figure(figsize=(15,5))\n",
        "plt.plot(test, marker='.', label='cnt', color='black')\n",
        "plt.plot(gru, marker='.', label='GRU', color='blue')\n",
        "plt.legend()"
      ],
      "metadata": {
        "colab": {
          "base_uri": "https://localhost:8080/",
          "height": 338
        },
        "id": "dNQeA0mnWM10",
        "outputId": "a74e1902-566f-4be8-9353-9366bfa7bf81"
      },
      "execution_count": null,
      "outputs": [
        {
          "output_type": "execute_result",
          "data": {
            "text/plain": [
              "<matplotlib.legend.Legend at 0x7fc8307e4d10>"
            ]
          },
          "metadata": {},
          "execution_count": 41
        },
        {
          "output_type": "display_data",
          "data": {
            "image/png": "[encoded data removed]",
            "text/plain": [
              "<Figure size 1080x360 with 1 Axes>"
            ]
          },
          "metadata": {
            "needs_background": "light"
          }
        }
      ]
    },
    {
      "cell_type": "markdown",
      "source": [
        "##### 모형비교"
      ],
      "metadata": {
        "id": "7Clpslj5XsSL"
      }
    },
    {
      "cell_type": "code",
      "source": [
        "plt.figure(figsize=(15,5))\n",
        "plt.plot(test, marker='.', label='cnt', color='black')\n",
        "plt.plot(rnn, marker='.', label='RNN', color='red')\n",
        "plt.plot(lstm, marker='.', label='LSTM', color='green')\n",
        "plt.plot(gru, marker='.', label='GRU', color='blue')\n",
        "plt.legend()"
      ],
      "metadata": {
        "colab": {
          "base_uri": "https://localhost:8080/",
          "height": 338
        },
        "id": "KAWfVkpxWhSD",
        "outputId": "5606e057-bac0-4277-d3b6-6ceb01987263"
      },
      "execution_count": null,
      "outputs": [
        {
          "output_type": "execute_result",
          "data": {
            "text/plain": [
              "<matplotlib.legend.Legend at 0x7fc830836b50>"
            ]
          },
          "metadata": {},
          "execution_count": 42
        },
        {
          "output_type": "display_data",
          "data": {
            "image/png": "[encoded data removed]",
            "text/plain": [
              "<Figure size 1080x360 with 1 Axes>"
            ]
          },
          "metadata": {
            "needs_background": "light"
          }
        }
      ]
    },
    {
      "cell_type": "code",
      "source": [
        "from sklearn.metrics import mean_squared_error\n",
        "\n",
        "def RMSE(y_test, y_predict):\n",
        "  return np.sqrt(mean_squared_error(y_test, y_predict))"
      ],
      "metadata": {
        "id": "Hu5U7CtrX2pj"
      },
      "execution_count": null,
      "outputs": []
    },
    {
      "cell_type": "code",
      "source": [
        "print(\"RNN RMSE:\", RMSE(test, rnn))\n",
        "print(\"LSTM RMSE:\", RMSE(test, lstm))\n",
        "print(\"GRU RMSE:\", RMSE(test, gru))\n",
        "\n",
        "#사실상 epoch수가 너무 작아서 parameter 조정이 어떻게 되냐에따라 결과 값이 바뀔 가능성이 충분함"
      ],
      "metadata": {
        "colab": {
          "base_uri": "https://localhost:8080/"
        },
        "id": "iVpMZgEHY6TU",
        "outputId": "1b278a0a-4952-4f29-c188-8cdda3cab6f0"
      },
      "execution_count": null,
      "outputs": [
        {
          "output_type": "stream",
          "name": "stdout",
          "text": [
            "RNN RMSE: 183.05097113126126\n",
            "LSTM RMSE: 198.573316187788\n",
            "GRU RMSE: 153.55250471695567\n"
          ]
        }
      ]
    },
    {
      "cell_type": "code",
      "source": [
        ""
      ],
      "metadata": {
        "id": "hG19WA98Y-dT"
      },
      "execution_count": null,
      "outputs": []
    }
  ]
}